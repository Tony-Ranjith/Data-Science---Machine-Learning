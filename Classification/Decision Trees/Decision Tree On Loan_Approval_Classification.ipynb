{
  "nbformat": 4,
  "nbformat_minor": 0,
  "metadata": {
    "colab": {
      "provenance": []
    },
    "kernelspec": {
      "name": "python3",
      "display_name": "Python 3"
    },
    "language_info": {
      "name": "python"
    }
  },
  "cells": [
    {
      "cell_type": "code",
      "execution_count": 102,
      "metadata": {
        "id": "YbJPgmYEfcna"
      },
      "outputs": [],
      "source": [
        "import pandas as pd\n",
        "import numpy as np\n",
        "import matplotlib.pyplot as plt\n",
        "import seaborn as sns"
      ]
    },
    {
      "cell_type": "code",
      "source": [
        "data=pd.read_csv('loan_data.csv')"
      ],
      "metadata": {
        "id": "tTxOmxyYgHT6"
      },
      "execution_count": 103,
      "outputs": []
    },
    {
      "cell_type": "code",
      "source": [
        "data.head()"
      ],
      "metadata": {
        "colab": {
          "base_uri": "https://localhost:8080/",
          "height": 206
        },
        "id": "ETk7pddlgN9Z",
        "outputId": "a4fe2e77-78db-498b-d7f3-6ff19ee5647d"
      },
      "execution_count": 104,
      "outputs": [
        {
          "output_type": "execute_result",
          "data": {
            "text/plain": [
              "  Applicant_ID   Age  Annual_Income  ...  Dependents Marital_Status  Loan_Status\n",
              "0      AID0311  39.0         508.65  ...         2.0        Married     Approved\n",
              "1      AID0391  43.0         214.77  ...         0.0        Married     Rejected\n",
              "2      AID0007  56.0         323.62  ...         0.0         Single     Approved\n",
              "3      AID0185  56.0         608.20  ...         0.0         Single     Approved\n",
              "4      AID0079  60.0         521.97  ...         1.0         Single     Approved\n",
              "\n",
              "[5 rows x 10 columns]"
            ],
            "text/html": [
              "\n",
              "  <div id=\"df-f7f660c8-7e03-4b5e-b6e5-3912d20ab9bd\" class=\"colab-df-container\">\n",
              "    <div>\n",
              "<style scoped>\n",
              "    .dataframe tbody tr th:only-of-type {\n",
              "        vertical-align: middle;\n",
              "    }\n",
              "\n",
              "    .dataframe tbody tr th {\n",
              "        vertical-align: top;\n",
              "    }\n",
              "\n",
              "    .dataframe thead th {\n",
              "        text-align: right;\n",
              "    }\n",
              "</style>\n",
              "<table border=\"1\" class=\"dataframe\">\n",
              "  <thead>\n",
              "    <tr style=\"text-align: right;\">\n",
              "      <th></th>\n",
              "      <th>Applicant_ID</th>\n",
              "      <th>Age</th>\n",
              "      <th>Annual_Income</th>\n",
              "      <th>Loan_Amount</th>\n",
              "      <th>Credit_Score</th>\n",
              "      <th>Loan_Tenure</th>\n",
              "      <th>Employment_Status</th>\n",
              "      <th>Dependents</th>\n",
              "      <th>Marital_Status</th>\n",
              "      <th>Loan_Status</th>\n",
              "    </tr>\n",
              "  </thead>\n",
              "  <tbody>\n",
              "    <tr>\n",
              "      <th>0</th>\n",
              "      <td>AID0311</td>\n",
              "      <td>39.0</td>\n",
              "      <td>508.65</td>\n",
              "      <td>145.05</td>\n",
              "      <td>High</td>\n",
              "      <td>3</td>\n",
              "      <td>Salaried</td>\n",
              "      <td>2.0</td>\n",
              "      <td>Married</td>\n",
              "      <td>Approved</td>\n",
              "    </tr>\n",
              "    <tr>\n",
              "      <th>1</th>\n",
              "      <td>AID0391</td>\n",
              "      <td>43.0</td>\n",
              "      <td>214.77</td>\n",
              "      <td>225.80</td>\n",
              "      <td>Low</td>\n",
              "      <td>3</td>\n",
              "      <td>Self-employed</td>\n",
              "      <td>0.0</td>\n",
              "      <td>Married</td>\n",
              "      <td>Rejected</td>\n",
              "    </tr>\n",
              "    <tr>\n",
              "      <th>2</th>\n",
              "      <td>AID0007</td>\n",
              "      <td>56.0</td>\n",
              "      <td>323.62</td>\n",
              "      <td>356.08</td>\n",
              "      <td>High</td>\n",
              "      <td>5</td>\n",
              "      <td>Salaried</td>\n",
              "      <td>0.0</td>\n",
              "      <td>Single</td>\n",
              "      <td>Approved</td>\n",
              "    </tr>\n",
              "    <tr>\n",
              "      <th>3</th>\n",
              "      <td>AID0185</td>\n",
              "      <td>56.0</td>\n",
              "      <td>608.20</td>\n",
              "      <td>215.69</td>\n",
              "      <td>Low</td>\n",
              "      <td>7</td>\n",
              "      <td>Self-employed</td>\n",
              "      <td>0.0</td>\n",
              "      <td>Single</td>\n",
              "      <td>Approved</td>\n",
              "    </tr>\n",
              "    <tr>\n",
              "      <th>4</th>\n",
              "      <td>AID0079</td>\n",
              "      <td>60.0</td>\n",
              "      <td>521.97</td>\n",
              "      <td>293.73</td>\n",
              "      <td>Medium</td>\n",
              "      <td>3</td>\n",
              "      <td>Salaried</td>\n",
              "      <td>1.0</td>\n",
              "      <td>Single</td>\n",
              "      <td>Approved</td>\n",
              "    </tr>\n",
              "  </tbody>\n",
              "</table>\n",
              "</div>\n",
              "    <div class=\"colab-df-buttons\">\n",
              "\n",
              "  <div class=\"colab-df-container\">\n",
              "    <button class=\"colab-df-convert\" onclick=\"convertToInteractive('df-f7f660c8-7e03-4b5e-b6e5-3912d20ab9bd')\"\n",
              "            title=\"Convert this dataframe to an interactive table.\"\n",
              "            style=\"display:none;\">\n",
              "\n",
              "  <svg xmlns=\"http://www.w3.org/2000/svg\" height=\"24px\" viewBox=\"0 -960 960 960\">\n",
              "    <path d=\"M120-120v-720h720v720H120Zm60-500h600v-160H180v160Zm220 220h160v-160H400v160Zm0 220h160v-160H400v160ZM180-400h160v-160H180v160Zm440 0h160v-160H620v160ZM180-180h160v-160H180v160Zm440 0h160v-160H620v160Z\"/>\n",
              "  </svg>\n",
              "    </button>\n",
              "\n",
              "  <style>\n",
              "    .colab-df-container {\n",
              "      display:flex;\n",
              "      gap: 12px;\n",
              "    }\n",
              "\n",
              "    .colab-df-convert {\n",
              "      background-color: #E8F0FE;\n",
              "      border: none;\n",
              "      border-radius: 50%;\n",
              "      cursor: pointer;\n",
              "      display: none;\n",
              "      fill: #1967D2;\n",
              "      height: 32px;\n",
              "      padding: 0 0 0 0;\n",
              "      width: 32px;\n",
              "    }\n",
              "\n",
              "    .colab-df-convert:hover {\n",
              "      background-color: #E2EBFA;\n",
              "      box-shadow: 0px 1px 2px rgba(60, 64, 67, 0.3), 0px 1px 3px 1px rgba(60, 64, 67, 0.15);\n",
              "      fill: #174EA6;\n",
              "    }\n",
              "\n",
              "    .colab-df-buttons div {\n",
              "      margin-bottom: 4px;\n",
              "    }\n",
              "\n",
              "    [theme=dark] .colab-df-convert {\n",
              "      background-color: #3B4455;\n",
              "      fill: #D2E3FC;\n",
              "    }\n",
              "\n",
              "    [theme=dark] .colab-df-convert:hover {\n",
              "      background-color: #434B5C;\n",
              "      box-shadow: 0px 1px 3px 1px rgba(0, 0, 0, 0.15);\n",
              "      filter: drop-shadow(0px 1px 2px rgba(0, 0, 0, 0.3));\n",
              "      fill: #FFFFFF;\n",
              "    }\n",
              "  </style>\n",
              "\n",
              "    <script>\n",
              "      const buttonEl =\n",
              "        document.querySelector('#df-f7f660c8-7e03-4b5e-b6e5-3912d20ab9bd button.colab-df-convert');\n",
              "      buttonEl.style.display =\n",
              "        google.colab.kernel.accessAllowed ? 'block' : 'none';\n",
              "\n",
              "      async function convertToInteractive(key) {\n",
              "        const element = document.querySelector('#df-f7f660c8-7e03-4b5e-b6e5-3912d20ab9bd');\n",
              "        const dataTable =\n",
              "          await google.colab.kernel.invokeFunction('convertToInteractive',\n",
              "                                                    [key], {});\n",
              "        if (!dataTable) return;\n",
              "\n",
              "        const docLinkHtml = 'Like what you see? Visit the ' +\n",
              "          '<a target=\"_blank\" href=https://colab.research.google.com/notebooks/data_table.ipynb>data table notebook</a>'\n",
              "          + ' to learn more about interactive tables.';\n",
              "        element.innerHTML = '';\n",
              "        dataTable['output_type'] = 'display_data';\n",
              "        await google.colab.output.renderOutput(dataTable, element);\n",
              "        const docLink = document.createElement('div');\n",
              "        docLink.innerHTML = docLinkHtml;\n",
              "        element.appendChild(docLink);\n",
              "      }\n",
              "    </script>\n",
              "  </div>\n",
              "\n",
              "\n",
              "<div id=\"df-cac9c7ec-f107-4797-ad21-9f4b3c0659af\">\n",
              "  <button class=\"colab-df-quickchart\" onclick=\"quickchart('df-cac9c7ec-f107-4797-ad21-9f4b3c0659af')\"\n",
              "            title=\"Suggest charts\"\n",
              "            style=\"display:none;\">\n",
              "\n",
              "<svg xmlns=\"http://www.w3.org/2000/svg\" height=\"24px\"viewBox=\"0 0 24 24\"\n",
              "     width=\"24px\">\n",
              "    <g>\n",
              "        <path d=\"M19 3H5c-1.1 0-2 .9-2 2v14c0 1.1.9 2 2 2h14c1.1 0 2-.9 2-2V5c0-1.1-.9-2-2-2zM9 17H7v-7h2v7zm4 0h-2V7h2v10zm4 0h-2v-4h2v4z\"/>\n",
              "    </g>\n",
              "</svg>\n",
              "  </button>\n",
              "\n",
              "<style>\n",
              "  .colab-df-quickchart {\n",
              "      --bg-color: #E8F0FE;\n",
              "      --fill-color: #1967D2;\n",
              "      --hover-bg-color: #E2EBFA;\n",
              "      --hover-fill-color: #174EA6;\n",
              "      --disabled-fill-color: #AAA;\n",
              "      --disabled-bg-color: #DDD;\n",
              "  }\n",
              "\n",
              "  [theme=dark] .colab-df-quickchart {\n",
              "      --bg-color: #3B4455;\n",
              "      --fill-color: #D2E3FC;\n",
              "      --hover-bg-color: #434B5C;\n",
              "      --hover-fill-color: #FFFFFF;\n",
              "      --disabled-bg-color: #3B4455;\n",
              "      --disabled-fill-color: #666;\n",
              "  }\n",
              "\n",
              "  .colab-df-quickchart {\n",
              "    background-color: var(--bg-color);\n",
              "    border: none;\n",
              "    border-radius: 50%;\n",
              "    cursor: pointer;\n",
              "    display: none;\n",
              "    fill: var(--fill-color);\n",
              "    height: 32px;\n",
              "    padding: 0;\n",
              "    width: 32px;\n",
              "  }\n",
              "\n",
              "  .colab-df-quickchart:hover {\n",
              "    background-color: var(--hover-bg-color);\n",
              "    box-shadow: 0 1px 2px rgba(60, 64, 67, 0.3), 0 1px 3px 1px rgba(60, 64, 67, 0.15);\n",
              "    fill: var(--button-hover-fill-color);\n",
              "  }\n",
              "\n",
              "  .colab-df-quickchart-complete:disabled,\n",
              "  .colab-df-quickchart-complete:disabled:hover {\n",
              "    background-color: var(--disabled-bg-color);\n",
              "    fill: var(--disabled-fill-color);\n",
              "    box-shadow: none;\n",
              "  }\n",
              "\n",
              "  .colab-df-spinner {\n",
              "    border: 2px solid var(--fill-color);\n",
              "    border-color: transparent;\n",
              "    border-bottom-color: var(--fill-color);\n",
              "    animation:\n",
              "      spin 1s steps(1) infinite;\n",
              "  }\n",
              "\n",
              "  @keyframes spin {\n",
              "    0% {\n",
              "      border-color: transparent;\n",
              "      border-bottom-color: var(--fill-color);\n",
              "      border-left-color: var(--fill-color);\n",
              "    }\n",
              "    20% {\n",
              "      border-color: transparent;\n",
              "      border-left-color: var(--fill-color);\n",
              "      border-top-color: var(--fill-color);\n",
              "    }\n",
              "    30% {\n",
              "      border-color: transparent;\n",
              "      border-left-color: var(--fill-color);\n",
              "      border-top-color: var(--fill-color);\n",
              "      border-right-color: var(--fill-color);\n",
              "    }\n",
              "    40% {\n",
              "      border-color: transparent;\n",
              "      border-right-color: var(--fill-color);\n",
              "      border-top-color: var(--fill-color);\n",
              "    }\n",
              "    60% {\n",
              "      border-color: transparent;\n",
              "      border-right-color: var(--fill-color);\n",
              "    }\n",
              "    80% {\n",
              "      border-color: transparent;\n",
              "      border-right-color: var(--fill-color);\n",
              "      border-bottom-color: var(--fill-color);\n",
              "    }\n",
              "    90% {\n",
              "      border-color: transparent;\n",
              "      border-bottom-color: var(--fill-color);\n",
              "    }\n",
              "  }\n",
              "</style>\n",
              "\n",
              "  <script>\n",
              "    async function quickchart(key) {\n",
              "      const quickchartButtonEl =\n",
              "        document.querySelector('#' + key + ' button');\n",
              "      quickchartButtonEl.disabled = true;  // To prevent multiple clicks.\n",
              "      quickchartButtonEl.classList.add('colab-df-spinner');\n",
              "      try {\n",
              "        const charts = await google.colab.kernel.invokeFunction(\n",
              "            'suggestCharts', [key], {});\n",
              "      } catch (error) {\n",
              "        console.error('Error during call to suggestCharts:', error);\n",
              "      }\n",
              "      quickchartButtonEl.classList.remove('colab-df-spinner');\n",
              "      quickchartButtonEl.classList.add('colab-df-quickchart-complete');\n",
              "    }\n",
              "    (() => {\n",
              "      let quickchartButtonEl =\n",
              "        document.querySelector('#df-cac9c7ec-f107-4797-ad21-9f4b3c0659af button');\n",
              "      quickchartButtonEl.style.display =\n",
              "        google.colab.kernel.accessAllowed ? 'block' : 'none';\n",
              "    })();\n",
              "  </script>\n",
              "</div>\n",
              "\n",
              "    </div>\n",
              "  </div>\n"
            ],
            "application/vnd.google.colaboratory.intrinsic+json": {
              "type": "dataframe",
              "variable_name": "data",
              "summary": "{\n  \"name\": \"data\",\n  \"rows\": 525,\n  \"fields\": [\n    {\n      \"column\": \"Applicant_ID\",\n      \"properties\": {\n        \"dtype\": \"string\",\n        \"num_unique_values\": 500,\n        \"samples\": [\n          \"AID0214\",\n          \"AID0001\",\n          \"AID0028\"\n        ],\n        \"semantic_type\": \"\",\n        \"description\": \"\"\n      }\n    },\n    {\n      \"column\": \"Age\",\n      \"properties\": {\n        \"dtype\": \"number\",\n        \"std\": 15.369397279837976,\n        \"min\": 18.0,\n        \"max\": 84.0,\n        \"num_unique_values\": 67,\n        \"samples\": [\n          50.0,\n          55.0,\n          25.0\n        ],\n        \"semantic_type\": \"\",\n        \"description\": \"\"\n      }\n    },\n    {\n      \"column\": \"Annual_Income\",\n      \"properties\": {\n        \"dtype\": \"number\",\n        \"std\": 890.4442297634973,\n        \"min\": -213.64,\n        \"max\": 11188.1,\n        \"num_unique_values\": 498,\n        \"samples\": [\n          596.45,\n          637.37,\n          445.19\n        ],\n        \"semantic_type\": \"\",\n        \"description\": \"\"\n      }\n    },\n    {\n      \"column\": \"Loan_Amount\",\n      \"properties\": {\n        \"dtype\": \"number\",\n        \"std\": 133.6219150252328,\n        \"min\": -71.07,\n        \"max\": 1318.5,\n        \"num_unique_values\": 471,\n        \"samples\": [\n          341.94,\n          157.56,\n          272.12\n        ],\n        \"semantic_type\": \"\",\n        \"description\": \"\"\n      }\n    },\n    {\n      \"column\": \"Credit_Score\",\n      \"properties\": {\n        \"dtype\": \"category\",\n        \"num_unique_values\": 3,\n        \"samples\": [\n          \"High\",\n          \"Low\",\n          \"Medium\"\n        ],\n        \"semantic_type\": \"\",\n        \"description\": \"\"\n      }\n    },\n    {\n      \"column\": \"Loan_Tenure\",\n      \"properties\": {\n        \"dtype\": \"number\",\n        \"std\": 2,\n        \"min\": 1,\n        \"max\": 10,\n        \"num_unique_values\": 6,\n        \"samples\": [\n          3,\n          5,\n          10\n        ],\n        \"semantic_type\": \"\",\n        \"description\": \"\"\n      }\n    },\n    {\n      \"column\": \"Employment_Status\",\n      \"properties\": {\n        \"dtype\": \"category\",\n        \"num_unique_values\": 3,\n        \"samples\": [\n          \"Salaried\",\n          \"Self-employed\",\n          \"Unemployed\"\n        ],\n        \"semantic_type\": \"\",\n        \"description\": \"\"\n      }\n    },\n    {\n      \"column\": \"Dependents\",\n      \"properties\": {\n        \"dtype\": \"number\",\n        \"std\": 1.0294376979242843,\n        \"min\": 0.0,\n        \"max\": 4.0,\n        \"num_unique_values\": 5,\n        \"samples\": [\n          0.0,\n          4.0,\n          1.0\n        ],\n        \"semantic_type\": \"\",\n        \"description\": \"\"\n      }\n    },\n    {\n      \"column\": \"Marital_Status\",\n      \"properties\": {\n        \"dtype\": \"category\",\n        \"num_unique_values\": 3,\n        \"samples\": [\n          \"Married\",\n          \"Single\",\n          \"Divorced\"\n        ],\n        \"semantic_type\": \"\",\n        \"description\": \"\"\n      }\n    },\n    {\n      \"column\": \"Loan_Status\",\n      \"properties\": {\n        \"dtype\": \"category\",\n        \"num_unique_values\": 2,\n        \"samples\": [\n          \"Rejected\",\n          \"Approved\"\n        ],\n        \"semantic_type\": \"\",\n        \"description\": \"\"\n      }\n    }\n  ]\n}"
            }
          },
          "metadata": {},
          "execution_count": 104
        }
      ]
    },
    {
      "cell_type": "code",
      "source": [
        "data.info()"
      ],
      "metadata": {
        "colab": {
          "base_uri": "https://localhost:8080/"
        },
        "id": "UwmVJiifgP9F",
        "outputId": "bf4a2452-02ed-45ca-8032-d074646dbf04"
      },
      "execution_count": 105,
      "outputs": [
        {
          "output_type": "stream",
          "name": "stdout",
          "text": [
            "<class 'pandas.core.frame.DataFrame'>\n",
            "RangeIndex: 525 entries, 0 to 524\n",
            "Data columns (total 10 columns):\n",
            " #   Column             Non-Null Count  Dtype  \n",
            "---  ------             --------------  -----  \n",
            " 0   Applicant_ID       525 non-null    object \n",
            " 1   Age                500 non-null    float64\n",
            " 2   Annual_Income      525 non-null    float64\n",
            " 3   Loan_Amount        497 non-null    float64\n",
            " 4   Credit_Score       525 non-null    object \n",
            " 5   Loan_Tenure        525 non-null    int64  \n",
            " 6   Employment_Status  525 non-null    object \n",
            " 7   Dependents         499 non-null    float64\n",
            " 8   Marital_Status     525 non-null    object \n",
            " 9   Loan_Status        525 non-null    object \n",
            "dtypes: float64(4), int64(1), object(5)\n",
            "memory usage: 41.1+ KB\n"
          ]
        }
      ]
    },
    {
      "cell_type": "code",
      "source": [
        "data.describe().T"
      ],
      "metadata": {
        "colab": {
          "base_uri": "https://localhost:8080/",
          "height": 206
        },
        "id": "7w39_xL_gbjw",
        "outputId": "f797107f-aab2-49d1-a1f0-b49496bd4cdf"
      },
      "execution_count": 106,
      "outputs": [
        {
          "output_type": "execute_result",
          "data": {
            "text/plain": [
              "               count        mean         std     min     25%     50%     75%      max\n",
              "Age            500.0   47.492000   15.369397   18.00   36.00   48.50   59.00     84.0\n",
              "Annual_Income  525.0  621.378629  890.444230 -213.64  379.47  515.32  669.20  11188.1\n",
              "Loan_Amount    497.0  210.793883  133.621915  -71.07  144.59  200.80  258.64   1318.5\n",
              "Loan_Tenure    525.0    4.194286    2.610966    1.00    2.00    3.00    5.00     10.0\n",
              "Dependents     499.0    0.779559    1.029438    0.00    0.00    0.00    1.00      4.0"
            ],
            "text/html": [
              "\n",
              "  <div id=\"df-3ecaad1f-93b4-47f9-883f-0059f37db43a\" class=\"colab-df-container\">\n",
              "    <div>\n",
              "<style scoped>\n",
              "    .dataframe tbody tr th:only-of-type {\n",
              "        vertical-align: middle;\n",
              "    }\n",
              "\n",
              "    .dataframe tbody tr th {\n",
              "        vertical-align: top;\n",
              "    }\n",
              "\n",
              "    .dataframe thead th {\n",
              "        text-align: right;\n",
              "    }\n",
              "</style>\n",
              "<table border=\"1\" class=\"dataframe\">\n",
              "  <thead>\n",
              "    <tr style=\"text-align: right;\">\n",
              "      <th></th>\n",
              "      <th>count</th>\n",
              "      <th>mean</th>\n",
              "      <th>std</th>\n",
              "      <th>min</th>\n",
              "      <th>25%</th>\n",
              "      <th>50%</th>\n",
              "      <th>75%</th>\n",
              "      <th>max</th>\n",
              "    </tr>\n",
              "  </thead>\n",
              "  <tbody>\n",
              "    <tr>\n",
              "      <th>Age</th>\n",
              "      <td>500.0</td>\n",
              "      <td>47.492000</td>\n",
              "      <td>15.369397</td>\n",
              "      <td>18.00</td>\n",
              "      <td>36.00</td>\n",
              "      <td>48.50</td>\n",
              "      <td>59.00</td>\n",
              "      <td>84.0</td>\n",
              "    </tr>\n",
              "    <tr>\n",
              "      <th>Annual_Income</th>\n",
              "      <td>525.0</td>\n",
              "      <td>621.378629</td>\n",
              "      <td>890.444230</td>\n",
              "      <td>-213.64</td>\n",
              "      <td>379.47</td>\n",
              "      <td>515.32</td>\n",
              "      <td>669.20</td>\n",
              "      <td>11188.1</td>\n",
              "    </tr>\n",
              "    <tr>\n",
              "      <th>Loan_Amount</th>\n",
              "      <td>497.0</td>\n",
              "      <td>210.793883</td>\n",
              "      <td>133.621915</td>\n",
              "      <td>-71.07</td>\n",
              "      <td>144.59</td>\n",
              "      <td>200.80</td>\n",
              "      <td>258.64</td>\n",
              "      <td>1318.5</td>\n",
              "    </tr>\n",
              "    <tr>\n",
              "      <th>Loan_Tenure</th>\n",
              "      <td>525.0</td>\n",
              "      <td>4.194286</td>\n",
              "      <td>2.610966</td>\n",
              "      <td>1.00</td>\n",
              "      <td>2.00</td>\n",
              "      <td>3.00</td>\n",
              "      <td>5.00</td>\n",
              "      <td>10.0</td>\n",
              "    </tr>\n",
              "    <tr>\n",
              "      <th>Dependents</th>\n",
              "      <td>499.0</td>\n",
              "      <td>0.779559</td>\n",
              "      <td>1.029438</td>\n",
              "      <td>0.00</td>\n",
              "      <td>0.00</td>\n",
              "      <td>0.00</td>\n",
              "      <td>1.00</td>\n",
              "      <td>4.0</td>\n",
              "    </tr>\n",
              "  </tbody>\n",
              "</table>\n",
              "</div>\n",
              "    <div class=\"colab-df-buttons\">\n",
              "\n",
              "  <div class=\"colab-df-container\">\n",
              "    <button class=\"colab-df-convert\" onclick=\"convertToInteractive('df-3ecaad1f-93b4-47f9-883f-0059f37db43a')\"\n",
              "            title=\"Convert this dataframe to an interactive table.\"\n",
              "            style=\"display:none;\">\n",
              "\n",
              "  <svg xmlns=\"http://www.w3.org/2000/svg\" height=\"24px\" viewBox=\"0 -960 960 960\">\n",
              "    <path d=\"M120-120v-720h720v720H120Zm60-500h600v-160H180v160Zm220 220h160v-160H400v160Zm0 220h160v-160H400v160ZM180-400h160v-160H180v160Zm440 0h160v-160H620v160ZM180-180h160v-160H180v160Zm440 0h160v-160H620v160Z\"/>\n",
              "  </svg>\n",
              "    </button>\n",
              "\n",
              "  <style>\n",
              "    .colab-df-container {\n",
              "      display:flex;\n",
              "      gap: 12px;\n",
              "    }\n",
              "\n",
              "    .colab-df-convert {\n",
              "      background-color: #E8F0FE;\n",
              "      border: none;\n",
              "      border-radius: 50%;\n",
              "      cursor: pointer;\n",
              "      display: none;\n",
              "      fill: #1967D2;\n",
              "      height: 32px;\n",
              "      padding: 0 0 0 0;\n",
              "      width: 32px;\n",
              "    }\n",
              "\n",
              "    .colab-df-convert:hover {\n",
              "      background-color: #E2EBFA;\n",
              "      box-shadow: 0px 1px 2px rgba(60, 64, 67, 0.3), 0px 1px 3px 1px rgba(60, 64, 67, 0.15);\n",
              "      fill: #174EA6;\n",
              "    }\n",
              "\n",
              "    .colab-df-buttons div {\n",
              "      margin-bottom: 4px;\n",
              "    }\n",
              "\n",
              "    [theme=dark] .colab-df-convert {\n",
              "      background-color: #3B4455;\n",
              "      fill: #D2E3FC;\n",
              "    }\n",
              "\n",
              "    [theme=dark] .colab-df-convert:hover {\n",
              "      background-color: #434B5C;\n",
              "      box-shadow: 0px 1px 3px 1px rgba(0, 0, 0, 0.15);\n",
              "      filter: drop-shadow(0px 1px 2px rgba(0, 0, 0, 0.3));\n",
              "      fill: #FFFFFF;\n",
              "    }\n",
              "  </style>\n",
              "\n",
              "    <script>\n",
              "      const buttonEl =\n",
              "        document.querySelector('#df-3ecaad1f-93b4-47f9-883f-0059f37db43a button.colab-df-convert');\n",
              "      buttonEl.style.display =\n",
              "        google.colab.kernel.accessAllowed ? 'block' : 'none';\n",
              "\n",
              "      async function convertToInteractive(key) {\n",
              "        const element = document.querySelector('#df-3ecaad1f-93b4-47f9-883f-0059f37db43a');\n",
              "        const dataTable =\n",
              "          await google.colab.kernel.invokeFunction('convertToInteractive',\n",
              "                                                    [key], {});\n",
              "        if (!dataTable) return;\n",
              "\n",
              "        const docLinkHtml = 'Like what you see? Visit the ' +\n",
              "          '<a target=\"_blank\" href=https://colab.research.google.com/notebooks/data_table.ipynb>data table notebook</a>'\n",
              "          + ' to learn more about interactive tables.';\n",
              "        element.innerHTML = '';\n",
              "        dataTable['output_type'] = 'display_data';\n",
              "        await google.colab.output.renderOutput(dataTable, element);\n",
              "        const docLink = document.createElement('div');\n",
              "        docLink.innerHTML = docLinkHtml;\n",
              "        element.appendChild(docLink);\n",
              "      }\n",
              "    </script>\n",
              "  </div>\n",
              "\n",
              "\n",
              "<div id=\"df-d752065d-3f8e-464c-a65f-21bd2e7c2667\">\n",
              "  <button class=\"colab-df-quickchart\" onclick=\"quickchart('df-d752065d-3f8e-464c-a65f-21bd2e7c2667')\"\n",
              "            title=\"Suggest charts\"\n",
              "            style=\"display:none;\">\n",
              "\n",
              "<svg xmlns=\"http://www.w3.org/2000/svg\" height=\"24px\"viewBox=\"0 0 24 24\"\n",
              "     width=\"24px\">\n",
              "    <g>\n",
              "        <path d=\"M19 3H5c-1.1 0-2 .9-2 2v14c0 1.1.9 2 2 2h14c1.1 0 2-.9 2-2V5c0-1.1-.9-2-2-2zM9 17H7v-7h2v7zm4 0h-2V7h2v10zm4 0h-2v-4h2v4z\"/>\n",
              "    </g>\n",
              "</svg>\n",
              "  </button>\n",
              "\n",
              "<style>\n",
              "  .colab-df-quickchart {\n",
              "      --bg-color: #E8F0FE;\n",
              "      --fill-color: #1967D2;\n",
              "      --hover-bg-color: #E2EBFA;\n",
              "      --hover-fill-color: #174EA6;\n",
              "      --disabled-fill-color: #AAA;\n",
              "      --disabled-bg-color: #DDD;\n",
              "  }\n",
              "\n",
              "  [theme=dark] .colab-df-quickchart {\n",
              "      --bg-color: #3B4455;\n",
              "      --fill-color: #D2E3FC;\n",
              "      --hover-bg-color: #434B5C;\n",
              "      --hover-fill-color: #FFFFFF;\n",
              "      --disabled-bg-color: #3B4455;\n",
              "      --disabled-fill-color: #666;\n",
              "  }\n",
              "\n",
              "  .colab-df-quickchart {\n",
              "    background-color: var(--bg-color);\n",
              "    border: none;\n",
              "    border-radius: 50%;\n",
              "    cursor: pointer;\n",
              "    display: none;\n",
              "    fill: var(--fill-color);\n",
              "    height: 32px;\n",
              "    padding: 0;\n",
              "    width: 32px;\n",
              "  }\n",
              "\n",
              "  .colab-df-quickchart:hover {\n",
              "    background-color: var(--hover-bg-color);\n",
              "    box-shadow: 0 1px 2px rgba(60, 64, 67, 0.3), 0 1px 3px 1px rgba(60, 64, 67, 0.15);\n",
              "    fill: var(--button-hover-fill-color);\n",
              "  }\n",
              "\n",
              "  .colab-df-quickchart-complete:disabled,\n",
              "  .colab-df-quickchart-complete:disabled:hover {\n",
              "    background-color: var(--disabled-bg-color);\n",
              "    fill: var(--disabled-fill-color);\n",
              "    box-shadow: none;\n",
              "  }\n",
              "\n",
              "  .colab-df-spinner {\n",
              "    border: 2px solid var(--fill-color);\n",
              "    border-color: transparent;\n",
              "    border-bottom-color: var(--fill-color);\n",
              "    animation:\n",
              "      spin 1s steps(1) infinite;\n",
              "  }\n",
              "\n",
              "  @keyframes spin {\n",
              "    0% {\n",
              "      border-color: transparent;\n",
              "      border-bottom-color: var(--fill-color);\n",
              "      border-left-color: var(--fill-color);\n",
              "    }\n",
              "    20% {\n",
              "      border-color: transparent;\n",
              "      border-left-color: var(--fill-color);\n",
              "      border-top-color: var(--fill-color);\n",
              "    }\n",
              "    30% {\n",
              "      border-color: transparent;\n",
              "      border-left-color: var(--fill-color);\n",
              "      border-top-color: var(--fill-color);\n",
              "      border-right-color: var(--fill-color);\n",
              "    }\n",
              "    40% {\n",
              "      border-color: transparent;\n",
              "      border-right-color: var(--fill-color);\n",
              "      border-top-color: var(--fill-color);\n",
              "    }\n",
              "    60% {\n",
              "      border-color: transparent;\n",
              "      border-right-color: var(--fill-color);\n",
              "    }\n",
              "    80% {\n",
              "      border-color: transparent;\n",
              "      border-right-color: var(--fill-color);\n",
              "      border-bottom-color: var(--fill-color);\n",
              "    }\n",
              "    90% {\n",
              "      border-color: transparent;\n",
              "      border-bottom-color: var(--fill-color);\n",
              "    }\n",
              "  }\n",
              "</style>\n",
              "\n",
              "  <script>\n",
              "    async function quickchart(key) {\n",
              "      const quickchartButtonEl =\n",
              "        document.querySelector('#' + key + ' button');\n",
              "      quickchartButtonEl.disabled = true;  // To prevent multiple clicks.\n",
              "      quickchartButtonEl.classList.add('colab-df-spinner');\n",
              "      try {\n",
              "        const charts = await google.colab.kernel.invokeFunction(\n",
              "            'suggestCharts', [key], {});\n",
              "      } catch (error) {\n",
              "        console.error('Error during call to suggestCharts:', error);\n",
              "      }\n",
              "      quickchartButtonEl.classList.remove('colab-df-spinner');\n",
              "      quickchartButtonEl.classList.add('colab-df-quickchart-complete');\n",
              "    }\n",
              "    (() => {\n",
              "      let quickchartButtonEl =\n",
              "        document.querySelector('#df-d752065d-3f8e-464c-a65f-21bd2e7c2667 button');\n",
              "      quickchartButtonEl.style.display =\n",
              "        google.colab.kernel.accessAllowed ? 'block' : 'none';\n",
              "    })();\n",
              "  </script>\n",
              "</div>\n",
              "\n",
              "    </div>\n",
              "  </div>\n"
            ],
            "application/vnd.google.colaboratory.intrinsic+json": {
              "type": "dataframe",
              "summary": "{\n  \"name\": \"data\",\n  \"rows\": 5,\n  \"fields\": [\n    {\n      \"column\": \"count\",\n      \"properties\": {\n        \"dtype\": \"number\",\n        \"std\": 14.463747785411636,\n        \"min\": 497.0,\n        \"max\": 525.0,\n        \"num_unique_values\": 4,\n        \"samples\": [\n          525.0,\n          499.0,\n          500.0\n        ],\n        \"semantic_type\": \"\",\n        \"description\": \"\"\n      }\n    },\n    {\n      \"column\": \"mean\",\n      \"properties\": {\n        \"dtype\": \"number\",\n        \"std\": 262.82225298701803,\n        \"min\": 0.779559118236473,\n        \"max\": 621.3786285714286,\n        \"num_unique_values\": 5,\n        \"samples\": [\n          621.3786285714286,\n          0.779559118236473,\n          210.7938832997988\n        ],\n        \"semantic_type\": \"\",\n        \"description\": \"\"\n      }\n    },\n    {\n      \"column\": \"std\",\n      \"properties\": {\n        \"dtype\": \"number\",\n        \"std\": 385.1585232316636,\n        \"min\": 1.0294376979242843,\n        \"max\": 890.4442297634973,\n        \"num_unique_values\": 5,\n        \"samples\": [\n          890.4442297634973,\n          1.0294376979242843,\n          133.6219150252328\n        ],\n        \"semantic_type\": \"\",\n        \"description\": \"\"\n      }\n    },\n    {\n      \"column\": \"min\",\n      \"properties\": {\n        \"dtype\": \"number\",\n        \"std\": 96.04378386964977,\n        \"min\": -213.64,\n        \"max\": 18.0,\n        \"num_unique_values\": 5,\n        \"samples\": [\n          -213.64,\n          0.0,\n          -71.07\n        ],\n        \"semantic_type\": \"\",\n        \"description\": \"\"\n      }\n    },\n    {\n      \"column\": \"25%\",\n      \"properties\": {\n        \"dtype\": \"number\",\n        \"std\": 160.48478142802202,\n        \"min\": 0.0,\n        \"max\": 379.47,\n        \"num_unique_values\": 5,\n        \"samples\": [\n          379.47,\n          0.0,\n          144.59\n        ],\n        \"semantic_type\": \"\",\n        \"description\": \"\"\n      }\n    },\n    {\n      \"column\": \"50%\",\n      \"properties\": {\n        \"dtype\": \"number\",\n        \"std\": 218.16765314775702,\n        \"min\": 0.0,\n        \"max\": 515.32,\n        \"num_unique_values\": 5,\n        \"samples\": [\n          515.32,\n          0.0,\n          200.8\n        ],\n        \"semantic_type\": \"\",\n        \"description\": \"\"\n      }\n    },\n    {\n      \"column\": \"75%\",\n      \"properties\": {\n        \"dtype\": \"number\",\n        \"std\": 283.32138839134615,\n        \"min\": 1.0,\n        \"max\": 669.2,\n        \"num_unique_values\": 5,\n        \"samples\": [\n          669.2,\n          1.0,\n          258.64\n        ],\n        \"semantic_type\": \"\",\n        \"description\": \"\"\n      }\n    },\n    {\n      \"column\": \"max\",\n      \"properties\": {\n        \"dtype\": \"number\",\n        \"std\": 4877.089491387256,\n        \"min\": 4.0,\n        \"max\": 11188.1,\n        \"num_unique_values\": 5,\n        \"samples\": [\n          11188.1,\n          4.0,\n          1318.5\n        ],\n        \"semantic_type\": \"\",\n        \"description\": \"\"\n      }\n    }\n  ]\n}"
            }
          },
          "metadata": {},
          "execution_count": 106
        }
      ]
    },
    {
      "cell_type": "code",
      "source": [
        "data.isnull().sum()"
      ],
      "metadata": {
        "colab": {
          "base_uri": "https://localhost:8080/",
          "height": 398
        },
        "id": "iy2joH_3ggvR",
        "outputId": "d6612801-dd83-4ec4-8d3e-1f24fbf100db"
      },
      "execution_count": 107,
      "outputs": [
        {
          "output_type": "execute_result",
          "data": {
            "text/plain": [
              "Applicant_ID          0\n",
              "Age                  25\n",
              "Annual_Income         0\n",
              "Loan_Amount          28\n",
              "Credit_Score          0\n",
              "Loan_Tenure           0\n",
              "Employment_Status     0\n",
              "Dependents           26\n",
              "Marital_Status        0\n",
              "Loan_Status           0\n",
              "dtype: int64"
            ],
            "text/html": [
              "<div>\n",
              "<style scoped>\n",
              "    .dataframe tbody tr th:only-of-type {\n",
              "        vertical-align: middle;\n",
              "    }\n",
              "\n",
              "    .dataframe tbody tr th {\n",
              "        vertical-align: top;\n",
              "    }\n",
              "\n",
              "    .dataframe thead th {\n",
              "        text-align: right;\n",
              "    }\n",
              "</style>\n",
              "<table border=\"1\" class=\"dataframe\">\n",
              "  <thead>\n",
              "    <tr style=\"text-align: right;\">\n",
              "      <th></th>\n",
              "      <th>0</th>\n",
              "    </tr>\n",
              "  </thead>\n",
              "  <tbody>\n",
              "    <tr>\n",
              "      <th>Applicant_ID</th>\n",
              "      <td>0</td>\n",
              "    </tr>\n",
              "    <tr>\n",
              "      <th>Age</th>\n",
              "      <td>25</td>\n",
              "    </tr>\n",
              "    <tr>\n",
              "      <th>Annual_Income</th>\n",
              "      <td>0</td>\n",
              "    </tr>\n",
              "    <tr>\n",
              "      <th>Loan_Amount</th>\n",
              "      <td>28</td>\n",
              "    </tr>\n",
              "    <tr>\n",
              "      <th>Credit_Score</th>\n",
              "      <td>0</td>\n",
              "    </tr>\n",
              "    <tr>\n",
              "      <th>Loan_Tenure</th>\n",
              "      <td>0</td>\n",
              "    </tr>\n",
              "    <tr>\n",
              "      <th>Employment_Status</th>\n",
              "      <td>0</td>\n",
              "    </tr>\n",
              "    <tr>\n",
              "      <th>Dependents</th>\n",
              "      <td>26</td>\n",
              "    </tr>\n",
              "    <tr>\n",
              "      <th>Marital_Status</th>\n",
              "      <td>0</td>\n",
              "    </tr>\n",
              "    <tr>\n",
              "      <th>Loan_Status</th>\n",
              "      <td>0</td>\n",
              "    </tr>\n",
              "  </tbody>\n",
              "</table>\n",
              "</div><br><label><b>dtype:</b> int64</label>"
            ]
          },
          "metadata": {},
          "execution_count": 107
        }
      ]
    },
    {
      "cell_type": "code",
      "source": [
        "data['Age'].fillna(data.Age.mean(),inplace=True)\n",
        "data['Loan_Amount'].fillna(data.Loan_Amount.mean(),inplace=True)\n",
        "data['Dependents'].fillna(data.Dependents.mode()[0],inplace=True)"
      ],
      "metadata": {
        "colab": {
          "base_uri": "https://localhost:8080/"
        },
        "id": "u1ip8pKZg0lQ",
        "outputId": "e7d1e0aa-5d77-436d-9e42-a98d7a372a22"
      },
      "execution_count": 108,
      "outputs": [
        {
          "output_type": "stream",
          "name": "stderr",
          "text": [
            "<ipython-input-108-ab9b6408ac8d>:1: FutureWarning: A value is trying to be set on a copy of a DataFrame or Series through chained assignment using an inplace method.\n",
            "The behavior will change in pandas 3.0. This inplace method will never work because the intermediate object on which we are setting values always behaves as a copy.\n",
            "\n",
            "For example, when doing 'df[col].method(value, inplace=True)', try using 'df.method({col: value}, inplace=True)' or df[col] = df[col].method(value) instead, to perform the operation inplace on the original object.\n",
            "\n",
            "\n",
            "  data['Age'].fillna(data.Age.mean(),inplace=True)\n",
            "<ipython-input-108-ab9b6408ac8d>:2: FutureWarning: A value is trying to be set on a copy of a DataFrame or Series through chained assignment using an inplace method.\n",
            "The behavior will change in pandas 3.0. This inplace method will never work because the intermediate object on which we are setting values always behaves as a copy.\n",
            "\n",
            "For example, when doing 'df[col].method(value, inplace=True)', try using 'df.method({col: value}, inplace=True)' or df[col] = df[col].method(value) instead, to perform the operation inplace on the original object.\n",
            "\n",
            "\n",
            "  data['Loan_Amount'].fillna(data.Loan_Amount.mean(),inplace=True)\n",
            "<ipython-input-108-ab9b6408ac8d>:3: FutureWarning: A value is trying to be set on a copy of a DataFrame or Series through chained assignment using an inplace method.\n",
            "The behavior will change in pandas 3.0. This inplace method will never work because the intermediate object on which we are setting values always behaves as a copy.\n",
            "\n",
            "For example, when doing 'df[col].method(value, inplace=True)', try using 'df.method({col: value}, inplace=True)' or df[col] = df[col].method(value) instead, to perform the operation inplace on the original object.\n",
            "\n",
            "\n",
            "  data['Dependents'].fillna(data.Dependents.mode()[0],inplace=True)\n"
          ]
        }
      ]
    },
    {
      "cell_type": "code",
      "source": [
        "data.isnull().sum()"
      ],
      "metadata": {
        "colab": {
          "base_uri": "https://localhost:8080/",
          "height": 398
        },
        "id": "5juKI_d_h7Zz",
        "outputId": "64bbe098-061a-473c-f5ed-e9987d4b53b5"
      },
      "execution_count": 109,
      "outputs": [
        {
          "output_type": "execute_result",
          "data": {
            "text/plain": [
              "Applicant_ID         0\n",
              "Age                  0\n",
              "Annual_Income        0\n",
              "Loan_Amount          0\n",
              "Credit_Score         0\n",
              "Loan_Tenure          0\n",
              "Employment_Status    0\n",
              "Dependents           0\n",
              "Marital_Status       0\n",
              "Loan_Status          0\n",
              "dtype: int64"
            ],
            "text/html": [
              "<div>\n",
              "<style scoped>\n",
              "    .dataframe tbody tr th:only-of-type {\n",
              "        vertical-align: middle;\n",
              "    }\n",
              "\n",
              "    .dataframe tbody tr th {\n",
              "        vertical-align: top;\n",
              "    }\n",
              "\n",
              "    .dataframe thead th {\n",
              "        text-align: right;\n",
              "    }\n",
              "</style>\n",
              "<table border=\"1\" class=\"dataframe\">\n",
              "  <thead>\n",
              "    <tr style=\"text-align: right;\">\n",
              "      <th></th>\n",
              "      <th>0</th>\n",
              "    </tr>\n",
              "  </thead>\n",
              "  <tbody>\n",
              "    <tr>\n",
              "      <th>Applicant_ID</th>\n",
              "      <td>0</td>\n",
              "    </tr>\n",
              "    <tr>\n",
              "      <th>Age</th>\n",
              "      <td>0</td>\n",
              "    </tr>\n",
              "    <tr>\n",
              "      <th>Annual_Income</th>\n",
              "      <td>0</td>\n",
              "    </tr>\n",
              "    <tr>\n",
              "      <th>Loan_Amount</th>\n",
              "      <td>0</td>\n",
              "    </tr>\n",
              "    <tr>\n",
              "      <th>Credit_Score</th>\n",
              "      <td>0</td>\n",
              "    </tr>\n",
              "    <tr>\n",
              "      <th>Loan_Tenure</th>\n",
              "      <td>0</td>\n",
              "    </tr>\n",
              "    <tr>\n",
              "      <th>Employment_Status</th>\n",
              "      <td>0</td>\n",
              "    </tr>\n",
              "    <tr>\n",
              "      <th>Dependents</th>\n",
              "      <td>0</td>\n",
              "    </tr>\n",
              "    <tr>\n",
              "      <th>Marital_Status</th>\n",
              "      <td>0</td>\n",
              "    </tr>\n",
              "    <tr>\n",
              "      <th>Loan_Status</th>\n",
              "      <td>0</td>\n",
              "    </tr>\n",
              "  </tbody>\n",
              "</table>\n",
              "</div><br><label><b>dtype:</b> int64</label>"
            ]
          },
          "metadata": {},
          "execution_count": 109
        }
      ]
    },
    {
      "cell_type": "code",
      "source": [
        "data.duplicated().sum()"
      ],
      "metadata": {
        "colab": {
          "base_uri": "https://localhost:8080/"
        },
        "id": "VGSCbUn9h_2k",
        "outputId": "18f894f8-77c1-4bd4-a4ef-948a97cc1fac"
      },
      "execution_count": 110,
      "outputs": [
        {
          "output_type": "execute_result",
          "data": {
            "text/plain": [
              "25"
            ]
          },
          "metadata": {},
          "execution_count": 110
        }
      ]
    },
    {
      "cell_type": "code",
      "source": [
        "data.drop_duplicates(inplace=True)"
      ],
      "metadata": {
        "id": "nsANsjIziEjv"
      },
      "execution_count": 111,
      "outputs": []
    },
    {
      "cell_type": "code",
      "source": [
        "data.columns"
      ],
      "metadata": {
        "colab": {
          "base_uri": "https://localhost:8080/"
        },
        "id": "Bqiw92qfiOro",
        "outputId": "4a3aa9b3-aac7-4b10-fa3b-e87b04effbe7"
      },
      "execution_count": 112,
      "outputs": [
        {
          "output_type": "execute_result",
          "data": {
            "text/plain": [
              "Index(['Applicant_ID', 'Age', 'Annual_Income', 'Loan_Amount', 'Credit_Score',\n",
              "       'Loan_Tenure', 'Employment_Status', 'Dependents', 'Marital_Status',\n",
              "       'Loan_Status'],\n",
              "      dtype='object')"
            ]
          },
          "metadata": {},
          "execution_count": 112
        }
      ]
    },
    {
      "cell_type": "code",
      "source": [
        "sns.distplot(data['Loan_Amount'],kde=True,hist=True,color='green')"
      ],
      "metadata": {
        "colab": {
          "base_uri": "https://localhost:8080/",
          "height": 657
        },
        "id": "jMAYiIc-ikf0",
        "outputId": "3c0378f0-5846-4dee-e348-db18f301896f"
      },
      "execution_count": 113,
      "outputs": [
        {
          "output_type": "stream",
          "name": "stderr",
          "text": [
            "<ipython-input-113-f5feccde6ea7>:1: UserWarning: \n",
            "\n",
            "`distplot` is a deprecated function and will be removed in seaborn v0.14.0.\n",
            "\n",
            "Please adapt your code to use either `displot` (a figure-level function with\n",
            "similar flexibility) or `histplot` (an axes-level function for histograms).\n",
            "\n",
            "For a guide to updating your code to use the new functions, please see\n",
            "https://gist.github.com/mwaskom/de44147ed2974457ad6372750bbe5751\n",
            "\n",
            "  sns.distplot(data['Loan_Amount'],kde=True,hist=True,color='green')\n"
          ]
        },
        {
          "output_type": "execute_result",
          "data": {
            "text/plain": [
              "<Axes: xlabel='Loan_Amount', ylabel='Density'>"
            ]
          },
          "metadata": {},
          "execution_count": 113
        },
        {
          "output_type": "display_data",
          "data": {
            "text/plain": [
              "<Figure size 640x480 with 1 Axes>"
            ],
            "image/png": "[encoded data removed]"
          },
          "metadata": {}
        }
      ]
    },
    {
      "cell_type": "markdown",
      "source": [
        "we can know that the max density is distributed from 0-300 loan amount."
      ],
      "metadata": {
        "id": "ljC7cSbVjfBh"
      }
    },
    {
      "cell_type": "code",
      "source": [
        "sns.histplot(data['Loan_Amount'],kde=True,color='green')"
      ],
      "metadata": {
        "colab": {
          "base_uri": "https://localhost:8080/",
          "height": 466
        },
        "id": "96osU9JDjV_w",
        "outputId": "37e0d703-097f-4628-a7cd-bfafc2a52ae0"
      },
      "execution_count": 114,
      "outputs": [
        {
          "output_type": "execute_result",
          "data": {
            "text/plain": [
              "<Axes: xlabel='Loan_Amount', ylabel='Count'>"
            ]
          },
          "metadata": {},
          "execution_count": 114
        },
        {
          "output_type": "display_data",
          "data": {
            "text/plain": [
              "<Figure size 640x480 with 1 Axes>"
            ],
            "image/png": "[encoded data removed]"
          },
          "metadata": {}
        }
      ]
    },
    {
      "cell_type": "code",
      "source": [
        "sns.countplot(data['Credit_Score'])"
      ],
      "metadata": {
        "colab": {
          "base_uri": "https://localhost:8080/",
          "height": 466
        },
        "id": "jr6BBSwVnA3M",
        "outputId": "f91a4420-e7d2-4479-9361-3468b263620b"
      },
      "execution_count": 115,
      "outputs": [
        {
          "output_type": "execute_result",
          "data": {
            "text/plain": [
              "<Axes: xlabel='count', ylabel='Credit_Score'>"
            ]
          },
          "metadata": {},
          "execution_count": 115
        },
        {
          "output_type": "display_data",
          "data": {
            "text/plain": [
              "<Figure size 640x480 with 1 Axes>"
            ],
            "image/png": "[encoded data removed]"
          },
          "metadata": {}
        }
      ]
    },
    {
      "cell_type": "markdown",
      "source": [
        "The Maximum people are having their credit score as medium"
      ],
      "metadata": {
        "id": "3PK8O0rAnvf-"
      }
    },
    {
      "cell_type": "code",
      "source": [
        "sns.lineplot(x='Annual_Income',y='Loan_Amount',data=data)"
      ],
      "metadata": {
        "colab": {
          "base_uri": "https://localhost:8080/",
          "height": 467
        },
        "id": "hCzRnIP2ndNX",
        "outputId": "c2414583-9d0a-4ec4-fe31-66703fc1ae4f"
      },
      "execution_count": 116,
      "outputs": [
        {
          "output_type": "execute_result",
          "data": {
            "text/plain": [
              "<Axes: xlabel='Annual_Income', ylabel='Loan_Amount'>"
            ]
          },
          "metadata": {},
          "execution_count": 116
        },
        {
          "output_type": "display_data",
          "data": {
            "text/plain": [
              "<Figure size 640x480 with 1 Axes>"
            ],
            "image/png": "[encoded data removed]"
          },
          "metadata": {}
        }
      ]
    },
    {
      "cell_type": "code",
      "source": [
        "sns.lineplot(x='Employment_Status',y='Loan_Amount',data=data)"
      ],
      "metadata": {
        "colab": {
          "base_uri": "https://localhost:8080/",
          "height": 467
        },
        "id": "RbLL1GSAoDlF",
        "outputId": "5079a240-2c2d-4c11-d732-0cd9101c5e3a"
      },
      "execution_count": 117,
      "outputs": [
        {
          "output_type": "execute_result",
          "data": {
            "text/plain": [
              "<Axes: xlabel='Employment_Status', ylabel='Loan_Amount'>"
            ]
          },
          "metadata": {},
          "execution_count": 117
        },
        {
          "output_type": "display_data",
          "data": {
            "text/plain": [
              "<Figure size 640x480 with 1 Axes>"
            ],
            "image/png": "[encoded data removed]"
          },
          "metadata": {}
        }
      ]
    },
    {
      "cell_type": "code",
      "source": [
        "plt.pie(data['Employment_Status'].value_counts(),labels=data['Employment_Status'].value_counts().index)"
      ],
      "metadata": {
        "colab": {
          "base_uri": "https://localhost:8080/",
          "height": 510
        },
        "id": "IUBJFW-5oi5k",
        "outputId": "691fb7c4-7a6c-4fc9-b23d-7287e7e95f9e"
      },
      "execution_count": 118,
      "outputs": [
        {
          "output_type": "execute_result",
          "data": {
            "text/plain": [
              "([<matplotlib.patches.Wedge at 0x7b63e736c3a0>,\n",
              "  <matplotlib.patches.Wedge at 0x7b63e736c2b0>,\n",
              "  <matplotlib.patches.Wedge at 0x7b63e736cbb0>],\n",
              " [Text(-0.2534283725512533, 1.0704083613210538, 'Salaried'),\n",
              "  Text(-0.06906960848527934, -1.0978293989430645, 'Self-employed'),\n",
              "  Text(1.0523832299782143, -0.3201398714009565, 'Unemployed')])"
            ]
          },
          "metadata": {},
          "execution_count": 118
        },
        {
          "output_type": "display_data",
          "data": {
            "text/plain": [
              "<Figure size 640x480 with 1 Axes>"
            ],
            "image/png": "[encoded data removed]"
          },
          "metadata": {}
        }
      ]
    },
    {
      "cell_type": "code",
      "source": [
        "#we will compare which emplyment status got loan status approved\n",
        "sns.countplot(x='Employment_Status',hue='Loan_Status',data=data)"
      ],
      "metadata": {
        "colab": {
          "base_uri": "https://localhost:8080/",
          "height": 471
        },
        "id": "zDEZF3qrpRjw",
        "outputId": "bced8734-c472-436a-8bdc-103bb8c5be79"
      },
      "execution_count": 119,
      "outputs": [
        {
          "output_type": "execute_result",
          "data": {
            "text/plain": [
              "<Axes: xlabel='Employment_Status', ylabel='count'>"
            ]
          },
          "metadata": {},
          "execution_count": 119
        },
        {
          "output_type": "display_data",
          "data": {
            "text/plain": [
              "<Figure size 640x480 with 1 Axes>"
            ],
            "image/png": "[encoded data removed]"
          },
          "metadata": {}
        }
      ]
    },
    {
      "cell_type": "markdown",
      "source": [
        "we can see tha salaried people and self employed people got more loan approvals than unemployed people"
      ],
      "metadata": {
        "id": "U5LSs1D4q5LW"
      }
    },
    {
      "cell_type": "code",
      "source": [
        "sns.countplot(x='Credit_Score',hue='Loan_Status',data=data)"
      ],
      "metadata": {
        "colab": {
          "base_uri": "https://localhost:8080/",
          "height": 467
        },
        "id": "06wM7oKrqsU1",
        "outputId": "84a1ca60-5938-4ded-fdcb-f6a4a7576c65"
      },
      "execution_count": 120,
      "outputs": [
        {
          "output_type": "execute_result",
          "data": {
            "text/plain": [
              "<Axes: xlabel='Credit_Score', ylabel='count'>"
            ]
          },
          "metadata": {},
          "execution_count": 120
        },
        {
          "output_type": "display_data",
          "data": {
            "text/plain": [
              "<Figure size 640x480 with 1 Axes>"
            ],
            "image/png": "[encoded data removed]"
          },
          "metadata": {}
        }
      ]
    },
    {
      "cell_type": "code",
      "source": [
        "data.columns"
      ],
      "metadata": {
        "colab": {
          "base_uri": "https://localhost:8080/"
        },
        "id": "E28PD4iorWv-",
        "outputId": "de722458-11a3-4177-e355-71ec2b57a209"
      },
      "execution_count": 121,
      "outputs": [
        {
          "output_type": "execute_result",
          "data": {
            "text/plain": [
              "Index(['Applicant_ID', 'Age', 'Annual_Income', 'Loan_Amount', 'Credit_Score',\n",
              "       'Loan_Tenure', 'Employment_Status', 'Dependents', 'Marital_Status',\n",
              "       'Loan_Status'],\n",
              "      dtype='object')"
            ]
          },
          "metadata": {},
          "execution_count": 121
        }
      ]
    },
    {
      "cell_type": "code",
      "source": [
        "sns.relplot(x='Annual_Income',y='Loan_Amount',data=data, hue='Loan_Status')"
      ],
      "metadata": {
        "colab": {
          "base_uri": "https://localhost:8080/",
          "height": 524
        },
        "id": "q_fV48_Arts5",
        "outputId": "b57ee6b7-8f8e-4798-f888-706a14986017"
      },
      "execution_count": 122,
      "outputs": [
        {
          "output_type": "execute_result",
          "data": {
            "text/plain": [
              "<seaborn.axisgrid.FacetGrid at 0x7b63e71a7040>"
            ]
          },
          "metadata": {},
          "execution_count": 122
        },
        {
          "output_type": "display_data",
          "data": {
            "text/plain": [
              "<Figure size 616.875x500 with 1 Axes>"
            ],
            "image/png": "[encoded data removed]"
          },
          "metadata": {}
        }
      ]
    },
    {
      "cell_type": "code",
      "source": [
        "sns.relplot(x='Annual_Income',y='Credit_Score',data=data, hue='Loan_Status')"
      ],
      "metadata": {
        "colab": {
          "base_uri": "https://localhost:8080/",
          "height": 524
        },
        "id": "jfLgnkjzspk4",
        "outputId": "fd1b3579-e9e2-4d1f-bd4c-48595e18ec8e"
      },
      "execution_count": 123,
      "outputs": [
        {
          "output_type": "execute_result",
          "data": {
            "text/plain": [
              "<seaborn.axisgrid.FacetGrid at 0x7b63e7256620>"
            ]
          },
          "metadata": {},
          "execution_count": 123
        },
        {
          "output_type": "display_data",
          "data": {
            "text/plain": [
              "<Figure size 616.875x500 with 1 Axes>"
            ],
            "image/png": "[encoded data removed]"
          },
          "metadata": {}
        }
      ]
    },
    {
      "cell_type": "code",
      "source": [
        "#we will build a decision tree classifier\n",
        "from sklearn.tree import DecisionTreeClassifier,plot_tree, export_graphviz\n",
        "import graphviz\n",
        "from sklearn.preprocessing import LabelEncoder, OneHotEncoder\n",
        "from sklearn.model_selection import train_test_split\n",
        "from sklearn.metrics import accuracy_score,confusion_matrix,classification_report,ConfusionMatrixDisplay"
      ],
      "metadata": {
        "id": "Ur06kHvbth3i"
      },
      "execution_count": 140,
      "outputs": []
    },
    {
      "cell_type": "code",
      "source": [
        "Le=LabelEncoder()"
      ],
      "metadata": {
        "id": "fvrRSdYE69Q6"
      },
      "execution_count": 125,
      "outputs": []
    },
    {
      "cell_type": "code",
      "source": [
        "x=data.drop('Loan_Status',axis=1)\n",
        "for col in x.select_dtypes(include=['object']).columns:\n",
        "    x[col] = Le.fit_transform(x[col])"
      ],
      "metadata": {
        "id": "uF6EhWKR7B6t"
      },
      "execution_count": 126,
      "outputs": []
    },
    {
      "cell_type": "code",
      "source": [
        "y=data['Loan_Status']\n",
        "y_encoded = Le.fit_transform(y)\n",
        "y=y_encoded"
      ],
      "metadata": {
        "id": "dq6SK-S47Ipq"
      },
      "execution_count": 127,
      "outputs": []
    },
    {
      "cell_type": "code",
      "source": [
        "x_train,x_test,y_train,y_test=train_test_split(x,y,test_size=0.2,random_state=42)"
      ],
      "metadata": {
        "id": "QoXMsQ6m7MkS"
      },
      "execution_count": 128,
      "outputs": []
    },
    {
      "cell_type": "code",
      "source": [
        "model=DecisionTreeClassifier(max_depth=5,max_features=5,min_samples_split=5)"
      ],
      "metadata": {
        "id": "4_QYsIjN7auU"
      },
      "execution_count": 129,
      "outputs": []
    },
    {
      "cell_type": "code",
      "source": [
        "model.fit(x_train,y_train)"
      ],
      "metadata": {
        "colab": {
          "base_uri": "https://localhost:8080/",
          "height": 80
        },
        "id": "EELQC38K73u1",
        "outputId": "39a1302d-8b99-4646-b855-9e192fee313c"
      },
      "execution_count": 130,
      "outputs": [
        {
          "output_type": "execute_result",
          "data": {
            "text/plain": [
              "DecisionTreeClassifier(max_depth=5, max_features=5, min_samples_split=5)"
            ],
            "text/html": [
              "<style>#sk-container-id-1 {\n",
              "  /* Definition of color scheme common for light and dark mode */\n",
              "  --sklearn-color-text: #000;\n",
              "  --sklearn-color-text-muted: #666;\n",
              "  --sklearn-color-line: gray;\n",
              "  /* Definition of color scheme for unfitted estimators */\n",
              "  --sklearn-color-unfitted-level-0: #fff5e6;\n",
              "  --sklearn-color-unfitted-level-1: #f6e4d2;\n",
              "  --sklearn-color-unfitted-level-2: #ffe0b3;\n",
              "  --sklearn-color-unfitted-level-3: chocolate;\n",
              "  /* Definition of color scheme for fitted estimators */\n",
              "  --sklearn-color-fitted-level-0: #f0f8ff;\n",
              "  --sklearn-color-fitted-level-1: #d4ebff;\n",
              "  --sklearn-color-fitted-level-2: #b3dbfd;\n",
              "  --sklearn-color-fitted-level-3: cornflowerblue;\n",
              "\n",
              "  /* Specific color for light theme */\n",
              "  --sklearn-color-text-on-default-background: var(--sg-text-color, var(--theme-code-foreground, var(--jp-content-font-color1, black)));\n",
              "  --sklearn-color-background: var(--sg-background-color, var(--theme-background, var(--jp-layout-color0, white)));\n",
              "  --sklearn-color-border-box: var(--sg-text-color, var(--theme-code-foreground, var(--jp-content-font-color1, black)));\n",
              "  --sklearn-color-icon: #696969;\n",
              "\n",
              "  @media (prefers-color-scheme: dark) {\n",
              "    /* Redefinition of color scheme for dark theme */\n",
              "    --sklearn-color-text-on-default-background: var(--sg-text-color, var(--theme-code-foreground, var(--jp-content-font-color1, white)));\n",
              "    --sklearn-color-background: var(--sg-background-color, var(--theme-background, var(--jp-layout-color0, #111)));\n",
              "    --sklearn-color-border-box: var(--sg-text-color, var(--theme-code-foreground, var(--jp-content-font-color1, white)));\n",
              "    --sklearn-color-icon: #878787;\n",
              "  }\n",
              "}\n",
              "\n",
              "#sk-container-id-1 {\n",
              "  color: var(--sklearn-color-text);\n",
              "}\n",
              "\n",
              "#sk-container-id-1 pre {\n",
              "  padding: 0;\n",
              "}\n",
              "\n",
              "#sk-container-id-1 input.sk-hidden--visually {\n",
              "  border: 0;\n",
              "  clip: rect(1px 1px 1px 1px);\n",
              "  clip: rect(1px, 1px, 1px, 1px);\n",
              "  height: 1px;\n",
              "  margin: -1px;\n",
              "  overflow: hidden;\n",
              "  padding: 0;\n",
              "  position: absolute;\n",
              "  width: 1px;\n",
              "}\n",
              "\n",
              "#sk-container-id-1 div.sk-dashed-wrapped {\n",
              "  border: 1px dashed var(--sklearn-color-line);\n",
              "  margin: 0 0.4em 0.5em 0.4em;\n",
              "  box-sizing: border-box;\n",
              "  padding-bottom: 0.4em;\n",
              "  background-color: var(--sklearn-color-background);\n",
              "}\n",
              "\n",
              "#sk-container-id-1 div.sk-container {\n",
              "  /* jupyter's `normalize.less` sets `[hidden] { display: none; }`\n",
              "     but bootstrap.min.css set `[hidden] { display: none !important; }`\n",
              "     so we also need the `!important` here to be able to override the\n",
              "     default hidden behavior on the sphinx rendered scikit-learn.org.\n",
              "     See: https://github.com/scikit-learn/scikit-learn/issues/21755 */\n",
              "  display: inline-block !important;\n",
              "  position: relative;\n",
              "}\n",
              "\n",
              "#sk-container-id-1 div.sk-text-repr-fallback {\n",
              "  display: none;\n",
              "}\n",
              "\n",
              "div.sk-parallel-item,\n",
              "div.sk-serial,\n",
              "div.sk-item {\n",
              "  /* draw centered vertical line to link estimators */\n",
              "  background-image: linear-gradient(var(--sklearn-color-text-on-default-background), var(--sklearn-color-text-on-default-background));\n",
              "  background-size: 2px 100%;\n",
              "  background-repeat: no-repeat;\n",
              "  background-position: center center;\n",
              "}\n",
              "\n",
              "/* Parallel-specific style estimator block */\n",
              "\n",
              "#sk-container-id-1 div.sk-parallel-item::after {\n",
              "  content: \"\";\n",
              "  width: 100%;\n",
              "  border-bottom: 2px solid var(--sklearn-color-text-on-default-background);\n",
              "  flex-grow: 1;\n",
              "}\n",
              "\n",
              "#sk-container-id-1 div.sk-parallel {\n",
              "  display: flex;\n",
              "  align-items: stretch;\n",
              "  justify-content: center;\n",
              "  background-color: var(--sklearn-color-background);\n",
              "  position: relative;\n",
              "}\n",
              "\n",
              "#sk-container-id-1 div.sk-parallel-item {\n",
              "  display: flex;\n",
              "  flex-direction: column;\n",
              "}\n",
              "\n",
              "#sk-container-id-1 div.sk-parallel-item:first-child::after {\n",
              "  align-self: flex-end;\n",
              "  width: 50%;\n",
              "}\n",
              "\n",
              "#sk-container-id-1 div.sk-parallel-item:last-child::after {\n",
              "  align-self: flex-start;\n",
              "  width: 50%;\n",
              "}\n",
              "\n",
              "#sk-container-id-1 div.sk-parallel-item:only-child::after {\n",
              "  width: 0;\n",
              "}\n",
              "\n",
              "/* Serial-specific style estimator block */\n",
              "\n",
              "#sk-container-id-1 div.sk-serial {\n",
              "  display: flex;\n",
              "  flex-direction: column;\n",
              "  align-items: center;\n",
              "  background-color: var(--sklearn-color-background);\n",
              "  padding-right: 1em;\n",
              "  padding-left: 1em;\n",
              "}\n",
              "\n",
              "\n",
              "/* Toggleable style: style used for estimator/Pipeline/ColumnTransformer box that is\n",
              "clickable and can be expanded/collapsed.\n",
              "- Pipeline and ColumnTransformer use this feature and define the default style\n",
              "- Estimators will overwrite some part of the style using the `sk-estimator` class\n",
              "*/\n",
              "\n",
              "/* Pipeline and ColumnTransformer style (default) */\n",
              "\n",
              "#sk-container-id-1 div.sk-toggleable {\n",
              "  /* Default theme specific background. It is overwritten whether we have a\n",
              "  specific estimator or a Pipeline/ColumnTransformer */\n",
              "  background-color: var(--sklearn-color-background);\n",
              "}\n",
              "\n",
              "/* Toggleable label */\n",
              "#sk-container-id-1 label.sk-toggleable__label {\n",
              "  cursor: pointer;\n",
              "  display: flex;\n",
              "  width: 100%;\n",
              "  margin-bottom: 0;\n",
              "  padding: 0.5em;\n",
              "  box-sizing: border-box;\n",
              "  text-align: center;\n",
              "  align-items: start;\n",
              "  justify-content: space-between;\n",
              "  gap: 0.5em;\n",
              "}\n",
              "\n",
              "#sk-container-id-1 label.sk-toggleable__label .caption {\n",
              "  font-size: 0.6rem;\n",
              "  font-weight: lighter;\n",
              "  color: var(--sklearn-color-text-muted);\n",
              "}\n",
              "\n",
              "#sk-container-id-1 label.sk-toggleable__label-arrow:before {\n",
              "  /* Arrow on the left of the label */\n",
              "  content: \"▸\";\n",
              "  float: left;\n",
              "  margin-right: 0.25em;\n",
              "  color: var(--sklearn-color-icon);\n",
              "}\n",
              "\n",
              "#sk-container-id-1 label.sk-toggleable__label-arrow:hover:before {\n",
              "  color: var(--sklearn-color-text);\n",
              "}\n",
              "\n",
              "/* Toggleable content - dropdown */\n",
              "\n",
              "#sk-container-id-1 div.sk-toggleable__content {\n",
              "  max-height: 0;\n",
              "  max-width: 0;\n",
              "  overflow: hidden;\n",
              "  text-align: left;\n",
              "  /* unfitted */\n",
              "  background-color: var(--sklearn-color-unfitted-level-0);\n",
              "}\n",
              "\n",
              "#sk-container-id-1 div.sk-toggleable__content.fitted {\n",
              "  /* fitted */\n",
              "  background-color: var(--sklearn-color-fitted-level-0);\n",
              "}\n",
              "\n",
              "#sk-container-id-1 div.sk-toggleable__content pre {\n",
              "  margin: 0.2em;\n",
              "  border-radius: 0.25em;\n",
              "  color: var(--sklearn-color-text);\n",
              "  /* unfitted */\n",
              "  background-color: var(--sklearn-color-unfitted-level-0);\n",
              "}\n",
              "\n",
              "#sk-container-id-1 div.sk-toggleable__content.fitted pre {\n",
              "  /* unfitted */\n",
              "  background-color: var(--sklearn-color-fitted-level-0);\n",
              "}\n",
              "\n",
              "#sk-container-id-1 input.sk-toggleable__control:checked~div.sk-toggleable__content {\n",
              "  /* Expand drop-down */\n",
              "  max-height: 200px;\n",
              "  max-width: 100%;\n",
              "  overflow: auto;\n",
              "}\n",
              "\n",
              "#sk-container-id-1 input.sk-toggleable__control:checked~label.sk-toggleable__label-arrow:before {\n",
              "  content: \"▾\";\n",
              "}\n",
              "\n",
              "/* Pipeline/ColumnTransformer-specific style */\n",
              "\n",
              "#sk-container-id-1 div.sk-label input.sk-toggleable__control:checked~label.sk-toggleable__label {\n",
              "  color: var(--sklearn-color-text);\n",
              "  background-color: var(--sklearn-color-unfitted-level-2);\n",
              "}\n",
              "\n",
              "#sk-container-id-1 div.sk-label.fitted input.sk-toggleable__control:checked~label.sk-toggleable__label {\n",
              "  background-color: var(--sklearn-color-fitted-level-2);\n",
              "}\n",
              "\n",
              "/* Estimator-specific style */\n",
              "\n",
              "/* Colorize estimator box */\n",
              "#sk-container-id-1 div.sk-estimator input.sk-toggleable__control:checked~label.sk-toggleable__label {\n",
              "  /* unfitted */\n",
              "  background-color: var(--sklearn-color-unfitted-level-2);\n",
              "}\n",
              "\n",
              "#sk-container-id-1 div.sk-estimator.fitted input.sk-toggleable__control:checked~label.sk-toggleable__label {\n",
              "  /* fitted */\n",
              "  background-color: var(--sklearn-color-fitted-level-2);\n",
              "}\n",
              "\n",
              "#sk-container-id-1 div.sk-label label.sk-toggleable__label,\n",
              "#sk-container-id-1 div.sk-label label {\n",
              "  /* The background is the default theme color */\n",
              "  color: var(--sklearn-color-text-on-default-background);\n",
              "}\n",
              "\n",
              "/* On hover, darken the color of the background */\n",
              "#sk-container-id-1 div.sk-label:hover label.sk-toggleable__label {\n",
              "  color: var(--sklearn-color-text);\n",
              "  background-color: var(--sklearn-color-unfitted-level-2);\n",
              "}\n",
              "\n",
              "/* Label box, darken color on hover, fitted */\n",
              "#sk-container-id-1 div.sk-label.fitted:hover label.sk-toggleable__label.fitted {\n",
              "  color: var(--sklearn-color-text);\n",
              "  background-color: var(--sklearn-color-fitted-level-2);\n",
              "}\n",
              "\n",
              "/* Estimator label */\n",
              "\n",
              "#sk-container-id-1 div.sk-label label {\n",
              "  font-family: monospace;\n",
              "  font-weight: bold;\n",
              "  display: inline-block;\n",
              "  line-height: 1.2em;\n",
              "}\n",
              "\n",
              "#sk-container-id-1 div.sk-label-container {\n",
              "  text-align: center;\n",
              "}\n",
              "\n",
              "/* Estimator-specific */\n",
              "#sk-container-id-1 div.sk-estimator {\n",
              "  font-family: monospace;\n",
              "  border: 1px dotted var(--sklearn-color-border-box);\n",
              "  border-radius: 0.25em;\n",
              "  box-sizing: border-box;\n",
              "  margin-bottom: 0.5em;\n",
              "  /* unfitted */\n",
              "  background-color: var(--sklearn-color-unfitted-level-0);\n",
              "}\n",
              "\n",
              "#sk-container-id-1 div.sk-estimator.fitted {\n",
              "  /* fitted */\n",
              "  background-color: var(--sklearn-color-fitted-level-0);\n",
              "}\n",
              "\n",
              "/* on hover */\n",
              "#sk-container-id-1 div.sk-estimator:hover {\n",
              "  /* unfitted */\n",
              "  background-color: var(--sklearn-color-unfitted-level-2);\n",
              "}\n",
              "\n",
              "#sk-container-id-1 div.sk-estimator.fitted:hover {\n",
              "  /* fitted */\n",
              "  background-color: var(--sklearn-color-fitted-level-2);\n",
              "}\n",
              "\n",
              "/* Specification for estimator info (e.g. \"i\" and \"?\") */\n",
              "\n",
              "/* Common style for \"i\" and \"?\" */\n",
              "\n",
              ".sk-estimator-doc-link,\n",
              "a:link.sk-estimator-doc-link,\n",
              "a:visited.sk-estimator-doc-link {\n",
              "  float: right;\n",
              "  font-size: smaller;\n",
              "  line-height: 1em;\n",
              "  font-family: monospace;\n",
              "  background-color: var(--sklearn-color-background);\n",
              "  border-radius: 1em;\n",
              "  height: 1em;\n",
              "  width: 1em;\n",
              "  text-decoration: none !important;\n",
              "  margin-left: 0.5em;\n",
              "  text-align: center;\n",
              "  /* unfitted */\n",
              "  border: var(--sklearn-color-unfitted-level-1) 1pt solid;\n",
              "  color: var(--sklearn-color-unfitted-level-1);\n",
              "}\n",
              "\n",
              ".sk-estimator-doc-link.fitted,\n",
              "a:link.sk-estimator-doc-link.fitted,\n",
              "a:visited.sk-estimator-doc-link.fitted {\n",
              "  /* fitted */\n",
              "  border: var(--sklearn-color-fitted-level-1) 1pt solid;\n",
              "  color: var(--sklearn-color-fitted-level-1);\n",
              "}\n",
              "\n",
              "/* On hover */\n",
              "div.sk-estimator:hover .sk-estimator-doc-link:hover,\n",
              ".sk-estimator-doc-link:hover,\n",
              "div.sk-label-container:hover .sk-estimator-doc-link:hover,\n",
              ".sk-estimator-doc-link:hover {\n",
              "  /* unfitted */\n",
              "  background-color: var(--sklearn-color-unfitted-level-3);\n",
              "  color: var(--sklearn-color-background);\n",
              "  text-decoration: none;\n",
              "}\n",
              "\n",
              "div.sk-estimator.fitted:hover .sk-estimator-doc-link.fitted:hover,\n",
              ".sk-estimator-doc-link.fitted:hover,\n",
              "div.sk-label-container:hover .sk-estimator-doc-link.fitted:hover,\n",
              ".sk-estimator-doc-link.fitted:hover {\n",
              "  /* fitted */\n",
              "  background-color: var(--sklearn-color-fitted-level-3);\n",
              "  color: var(--sklearn-color-background);\n",
              "  text-decoration: none;\n",
              "}\n",
              "\n",
              "/* Span, style for the box shown on hovering the info icon */\n",
              ".sk-estimator-doc-link span {\n",
              "  display: none;\n",
              "  z-index: 9999;\n",
              "  position: relative;\n",
              "  font-weight: normal;\n",
              "  right: .2ex;\n",
              "  padding: .5ex;\n",
              "  margin: .5ex;\n",
              "  width: min-content;\n",
              "  min-width: 20ex;\n",
              "  max-width: 50ex;\n",
              "  color: var(--sklearn-color-text);\n",
              "  box-shadow: 2pt 2pt 4pt #999;\n",
              "  /* unfitted */\n",
              "  background: var(--sklearn-color-unfitted-level-0);\n",
              "  border: .5pt solid var(--sklearn-color-unfitted-level-3);\n",
              "}\n",
              "\n",
              ".sk-estimator-doc-link.fitted span {\n",
              "  /* fitted */\n",
              "  background: var(--sklearn-color-fitted-level-0);\n",
              "  border: var(--sklearn-color-fitted-level-3);\n",
              "}\n",
              "\n",
              ".sk-estimator-doc-link:hover span {\n",
              "  display: block;\n",
              "}\n",
              "\n",
              "/* \"?\"-specific style due to the `<a>` HTML tag */\n",
              "\n",
              "#sk-container-id-1 a.estimator_doc_link {\n",
              "  float: right;\n",
              "  font-size: 1rem;\n",
              "  line-height: 1em;\n",
              "  font-family: monospace;\n",
              "  background-color: var(--sklearn-color-background);\n",
              "  border-radius: 1rem;\n",
              "  height: 1rem;\n",
              "  width: 1rem;\n",
              "  text-decoration: none;\n",
              "  /* unfitted */\n",
              "  color: var(--sklearn-color-unfitted-level-1);\n",
              "  border: var(--sklearn-color-unfitted-level-1) 1pt solid;\n",
              "}\n",
              "\n",
              "#sk-container-id-1 a.estimator_doc_link.fitted {\n",
              "  /* fitted */\n",
              "  border: var(--sklearn-color-fitted-level-1) 1pt solid;\n",
              "  color: var(--sklearn-color-fitted-level-1);\n",
              "}\n",
              "\n",
              "/* On hover */\n",
              "#sk-container-id-1 a.estimator_doc_link:hover {\n",
              "  /* unfitted */\n",
              "  background-color: var(--sklearn-color-unfitted-level-3);\n",
              "  color: var(--sklearn-color-background);\n",
              "  text-decoration: none;\n",
              "}\n",
              "\n",
              "#sk-container-id-1 a.estimator_doc_link.fitted:hover {\n",
              "  /* fitted */\n",
              "  background-color: var(--sklearn-color-fitted-level-3);\n",
              "}\n",
              "</style><div id=\"sk-container-id-1\" class=\"sk-top-container\"><div class=\"sk-text-repr-fallback\"><pre>DecisionTreeClassifier(max_depth=5, max_features=5, min_samples_split=5)</pre><b>In a Jupyter environment, please rerun this cell to show the HTML representation or trust the notebook. <br />On GitHub, the HTML representation is unable to render, please try loading this page with nbviewer.org.</b></div><div class=\"sk-container\" hidden><div class=\"sk-item\"><div class=\"sk-estimator fitted sk-toggleable\"><input class=\"sk-toggleable__control sk-hidden--visually\" id=\"sk-estimator-id-1\" type=\"checkbox\" checked><label for=\"sk-estimator-id-1\" class=\"sk-toggleable__label fitted sk-toggleable__label-arrow\"><div><div>DecisionTreeClassifier</div></div><div><a class=\"sk-estimator-doc-link fitted\" rel=\"noreferrer\" target=\"_blank\" href=\"https://scikit-learn.org/1.6/modules/generated/sklearn.tree.DecisionTreeClassifier.html\">?<span>Documentation for DecisionTreeClassifier</span></a><span class=\"sk-estimator-doc-link fitted\">i<span>Fitted</span></span></div></label><div class=\"sk-toggleable__content fitted\"><pre>DecisionTreeClassifier(max_depth=5, max_features=5, min_samples_split=5)</pre></div> </div></div></div></div>"
            ]
          },
          "metadata": {},
          "execution_count": 130
        }
      ]
    },
    {
      "cell_type": "code",
      "source": [
        "model.score(x_train,y_train)"
      ],
      "metadata": {
        "colab": {
          "base_uri": "https://localhost:8080/"
        },
        "id": "r4Q61B2Q78Zp",
        "outputId": "c86f2678-4cd9-45bb-dffd-b8781c4474c0"
      },
      "execution_count": 131,
      "outputs": [
        {
          "output_type": "execute_result",
          "data": {
            "text/plain": [
              "0.735"
            ]
          },
          "metadata": {},
          "execution_count": 131
        }
      ]
    },
    {
      "cell_type": "markdown",
      "source": [
        " The model achieved an accuracy of 73.5% on the training dataset, indicating it has learned the patterns in the training data reasonably well"
      ],
      "metadata": {
        "id": "tGq82uokBIGh"
      }
    },
    {
      "cell_type": "code",
      "source": [
        "model.score(x_test,y_test)"
      ],
      "metadata": {
        "colab": {
          "base_uri": "https://localhost:8080/"
        },
        "id": "DwAO_ceX_lL3",
        "outputId": "33bdff94-9532-4001-a7b4-b5fac202d783"
      },
      "execution_count": 132,
      "outputs": [
        {
          "output_type": "execute_result",
          "data": {
            "text/plain": [
              "0.62"
            ]
          },
          "metadata": {},
          "execution_count": 132
        }
      ]
    },
    {
      "cell_type": "markdown",
      "source": [
        "On the test dataset, the accuracy dropped to 62%, suggesting some overfitting or the need for further tuning\n"
      ],
      "metadata": {
        "id": "VWV0DBkqBKzt"
      }
    },
    {
      "cell_type": "code",
      "source": [
        "y_pred = model.predict(x_test)\n",
        "y_pred"
      ],
      "metadata": {
        "colab": {
          "base_uri": "https://localhost:8080/"
        },
        "id": "Bj_zN5vS_uIV",
        "outputId": "0f0706e3-ccdb-4f7a-ca22-935dbb494779"
      },
      "execution_count": 134,
      "outputs": [
        {
          "output_type": "execute_result",
          "data": {
            "text/plain": [
              "array([1, 0, 0, 0, 0, 0, 0, 0, 0, 0, 0, 0, 0, 0, 0, 0, 0, 1, 0, 0, 0, 0,\n",
              "       0, 0, 0, 0, 0, 0, 0, 1, 0, 0, 0, 1, 0, 1, 1, 0, 1, 0, 0, 0, 0, 0,\n",
              "       0, 0, 0, 0, 0, 0, 0, 0, 0, 0, 0, 0, 0, 0, 0, 0, 0, 0, 1, 0, 0, 0,\n",
              "       0, 0, 0, 0, 0, 0, 0, 0, 0, 0, 0, 0, 0, 0, 0, 0, 0, 0, 0, 0, 1, 0,\n",
              "       0, 0, 0, 0, 0, 0, 0, 0, 0, 0, 0, 0])"
            ]
          },
          "metadata": {},
          "execution_count": 134
        }
      ]
    },
    {
      "cell_type": "code",
      "source": [
        "cm = confusion_matrix(y_test, y_pred)\n",
        "disp = ConfusionMatrixDisplay(confusion_matrix=cm, display_labels=model.classes_)\n",
        "disp.plot()"
      ],
      "metadata": {
        "colab": {
          "base_uri": "https://localhost:8080/",
          "height": 466
        },
        "id": "Wd-p8OMA_5Ed",
        "outputId": "b906db46-9611-41f2-ff33-b155dd5d4604"
      },
      "execution_count": 136,
      "outputs": [
        {
          "output_type": "execute_result",
          "data": {
            "text/plain": [
              "<sklearn.metrics._plot.confusion_matrix.ConfusionMatrixDisplay at 0x7b63e783e710>"
            ]
          },
          "metadata": {},
          "execution_count": 136
        },
        {
          "output_type": "display_data",
          "data": {
            "text/plain": [
              "<Figure size 640x480 with 2 Axes>"
            ],
            "image/png": "[encoded data removed]"
          },
          "metadata": {}
        }
      ]
    },
    {
      "cell_type": "code",
      "source": [
        "classification_report(y_test,y_pred)"
      ],
      "metadata": {
        "colab": {
          "base_uri": "https://localhost:8080/",
          "height": 70
        },
        "id": "XRkcTCwqALxm",
        "outputId": "58360d85-fed4-4a83-f6cd-d06fb14e4a72"
      },
      "execution_count": 137,
      "outputs": [
        {
          "output_type": "execute_result",
          "data": {
            "text/plain": [
              "'              precision    recall  f1-score   support\\n\\n           0       0.65      0.91      0.76        65\\n           1       0.33      0.09      0.14        35\\n\\n    accuracy                           0.62       100\\n   macro avg       0.49      0.50      0.45       100\\nweighted avg       0.54      0.62      0.54       100\\n'"
            ],
            "application/vnd.google.colaboratory.intrinsic+json": {
              "type": "string"
            }
          },
          "metadata": {},
          "execution_count": 137
        }
      ]
    },
    {
      "cell_type": "markdown",
      "source": [
        "Class 0 (Loan Not Approved): The precision (65%) and recall (91%) indicate the model performs better in identifying cases where the loan is not approved.\n",
        "\n",
        "Class 1 (Loan Approved): The precision (33%) and recall (9%) are low, showing the model struggles to correctly predict loan approvals"
      ],
      "metadata": {
        "id": "HqnQxKr2BTSX"
      }
    },
    {
      "cell_type": "code",
      "source": [
        "# will plot our tree colorfully\n",
        "dot_data = export_graphviz(model, out_file=None, feature_names=x.columns, class_names=['0', '1'], filled=True, rounded=True, special_characters=True)\n",
        "graph = graphviz.Source(dot_data)\n",
        "graph\n"
      ],
      "metadata": {
        "colab": {
          "base_uri": "https://localhost:8080/",
          "height": 936
        },
        "id": "dAn32HzDAUGa",
        "outputId": "4156bea9-f05f-4eb7-9201-a3cc9aa7b6ca"
      },
      "execution_count": 150,
      "outputs": [
        {
          "output_type": "execute_result",
          "data": {
            "image/svg+xml": "<?xml version=\"1.0\" encoding=\"UTF-8\" standalone=\"no\"?>\n<!DOCTYPE svg PUBLIC \"-//W3C//DTD SVG 1.1//EN\"\n \"http://www.w3.org/Graphics/SVG/1.1/DTD/svg11.dtd\">\n<!-- Generated by graphviz version 2.43.0 (0)\n -->\n<!-- Title: Tree Pages: 1 -->\n<svg width=\"1464pt\" height=\"671pt\"\n viewBox=\"0.00 0.00 1463.50 671.00\" xmlns=\"http://www.w3.org/2000/svg\" xmlns:xlink=\"http://www.w3.org/1999/xlink\">\n<g id=\"graph0\" class=\"graph\" transform=\"scale(1 1) rotate(0) translate(4 667)\">\n<title>Tree</title>\n<polygon fill=\"white\" stroke=\"transparent\" points=\"-4,4 -4,-667 1459.5,-667 1459.5,4 -4,4\"/>\n<!-- 0 -->\n<g id=\"node1\" class=\"node\">\n<title>0</title>\n<path fill=\"#efb388\" stroke=\"black\" d=\"M805,-663C805,-663 682,-663 682,-663 676,-663 670,-657 670,-651 670,-651 670,-592 670,-592 670,-586 676,-580 682,-580 682,-580 805,-580 805,-580 811,-580 817,-586 817,-592 817,-592 817,-651 817,-651 817,-657 811,-663 805,-663\"/>\n<text text-anchor=\"start\" x=\"710.5\" y=\"-647.8\" font-family=\"Helvetica,sans-Serif\" font-size=\"14.00\">Age ≤ 24.5</text>\n<text text-anchor=\"start\" x=\"708\" y=\"-632.8\" font-family=\"Helvetica,sans-Serif\" font-size=\"14.00\">gini = 0.408</text>\n<text text-anchor=\"start\" x=\"698.5\" y=\"-617.8\" font-family=\"Helvetica,sans-Serif\" font-size=\"14.00\">samples = 400</text>\n<text text-anchor=\"start\" x=\"678\" y=\"-602.8\" font-family=\"Helvetica,sans-Serif\" font-size=\"14.00\">value = [286.0, 114.0]</text>\n<text text-anchor=\"start\" x=\"716\" y=\"-587.8\" font-family=\"Helvetica,sans-Serif\" font-size=\"14.00\">class = 0</text>\n</g>\n<!-- 1 -->\n<g id=\"node2\" class=\"node\">\n<title>1</title>\n<path fill=\"#e88e4d\" stroke=\"black\" d=\"M653.5,-544C653.5,-544 519.5,-544 519.5,-544 513.5,-544 507.5,-538 507.5,-532 507.5,-532 507.5,-473 507.5,-473 507.5,-467 513.5,-461 519.5,-461 519.5,-461 653.5,-461 653.5,-461 659.5,-461 665.5,-467 665.5,-473 665.5,-473 665.5,-532 665.5,-532 665.5,-538 659.5,-544 653.5,-544\"/>\n<text text-anchor=\"start\" x=\"515.5\" y=\"-528.8\" font-family=\"Helvetica,sans-Serif\" font-size=\"14.00\">Loan_Amount ≤ 171.81</text>\n<text text-anchor=\"start\" x=\"554.5\" y=\"-513.8\" font-family=\"Helvetica,sans-Serif\" font-size=\"14.00\">gini = 0.17</text>\n<text text-anchor=\"start\" x=\"545.5\" y=\"-498.8\" font-family=\"Helvetica,sans-Serif\" font-size=\"14.00\">samples = 32</text>\n<text text-anchor=\"start\" x=\"543.5\" y=\"-483.8\" font-family=\"Helvetica,sans-Serif\" font-size=\"14.00\">value = [29, 3]</text>\n<text text-anchor=\"start\" x=\"559\" y=\"-468.8\" font-family=\"Helvetica,sans-Serif\" font-size=\"14.00\">class = 0</text>\n</g>\n<!-- 0&#45;&gt;1 -->\n<g id=\"edge1\" class=\"edge\">\n<title>0&#45;&gt;1</title>\n<path fill=\"none\" stroke=\"black\" d=\"M689.03,-579.91C676.12,-570.29 662.25,-559.95 649.02,-550.09\"/>\n<polygon fill=\"black\" stroke=\"black\" points=\"650.98,-547.19 640.87,-544.02 646.8,-552.8 650.98,-547.19\"/>\n<text text-anchor=\"middle\" x=\"644.49\" y=\"-565.06\" font-family=\"Helvetica,sans-Serif\" font-size=\"14.00\">True</text>\n</g>\n<!-- 10 -->\n<g id=\"node11\" class=\"node\">\n<title>10</title>\n<path fill=\"#f0b78f\" stroke=\"black\" d=\"M827.5,-544C827.5,-544 709.5,-544 709.5,-544 703.5,-544 697.5,-538 697.5,-532 697.5,-532 697.5,-473 697.5,-473 697.5,-467 703.5,-461 709.5,-461 709.5,-461 827.5,-461 827.5,-461 833.5,-461 839.5,-467 839.5,-473 839.5,-473 839.5,-532 839.5,-532 839.5,-538 833.5,-544 827.5,-544\"/>\n<text text-anchor=\"start\" x=\"705.5\" y=\"-528.8\" font-family=\"Helvetica,sans-Serif\" font-size=\"14.00\">Applicant_ID ≤ 370.5</text>\n<text text-anchor=\"start\" x=\"733\" y=\"-513.8\" font-family=\"Helvetica,sans-Serif\" font-size=\"14.00\">gini = 0.421</text>\n<text text-anchor=\"start\" x=\"723.5\" y=\"-498.8\" font-family=\"Helvetica,sans-Serif\" font-size=\"14.00\">samples = 368</text>\n<text text-anchor=\"start\" x=\"714\" y=\"-483.8\" font-family=\"Helvetica,sans-Serif\" font-size=\"14.00\">value = [257, 111]</text>\n<text text-anchor=\"start\" x=\"741\" y=\"-468.8\" font-family=\"Helvetica,sans-Serif\" font-size=\"14.00\">class = 0</text>\n</g>\n<!-- 0&#45;&gt;10 -->\n<g id=\"edge10\" class=\"edge\">\n<title>0&#45;&gt;10</title>\n<path fill=\"none\" stroke=\"black\" d=\"M752.17,-579.91C753.96,-571.56 755.86,-562.67 757.71,-554.02\"/>\n<polygon fill=\"black\" stroke=\"black\" points=\"761.17,-554.53 759.84,-544.02 754.33,-553.07 761.17,-554.53\"/>\n<text text-anchor=\"middle\" x=\"773.44\" y=\"-561.3\" font-family=\"Helvetica,sans-Serif\" font-size=\"14.00\">False</text>\n</g>\n<!-- 2 -->\n<g id=\"node3\" class=\"node\">\n<title>2</title>\n<path fill=\"#eca06a\" stroke=\"black\" d=\"M432,-425C432,-425 291,-425 291,-425 285,-425 279,-419 279,-413 279,-413 279,-354 279,-354 279,-348 285,-342 291,-342 291,-342 432,-342 432,-342 438,-342 444,-348 444,-354 444,-354 444,-413 444,-413 444,-419 438,-425 432,-425\"/>\n<text text-anchor=\"start\" x=\"287\" y=\"-409.8\" font-family=\"Helvetica,sans-Serif\" font-size=\"14.00\">Loan_Amount ≤ 164.095</text>\n<text text-anchor=\"start\" x=\"329.5\" y=\"-394.8\" font-family=\"Helvetica,sans-Serif\" font-size=\"14.00\">gini = 0.32</text>\n<text text-anchor=\"start\" x=\"320.5\" y=\"-379.8\" font-family=\"Helvetica,sans-Serif\" font-size=\"14.00\">samples = 15</text>\n<text text-anchor=\"start\" x=\"318.5\" y=\"-364.8\" font-family=\"Helvetica,sans-Serif\" font-size=\"14.00\">value = [12, 3]</text>\n<text text-anchor=\"start\" x=\"334\" y=\"-349.8\" font-family=\"Helvetica,sans-Serif\" font-size=\"14.00\">class = 0</text>\n</g>\n<!-- 1&#45;&gt;2 -->\n<g id=\"edge2\" class=\"edge\">\n<title>1&#45;&gt;2</title>\n<path fill=\"none\" stroke=\"black\" d=\"M508.44,-460.91C489.07,-450.83 468.19,-439.98 448.42,-429.7\"/>\n<polygon fill=\"black\" stroke=\"black\" points=\"449.91,-426.53 439.42,-425.02 446.68,-432.74 449.91,-426.53\"/>\n</g>\n<!-- 9 -->\n<g id=\"node10\" class=\"node\">\n<title>9</title>\n<path fill=\"#e58139\" stroke=\"black\" d=\"M625.5,-417.5C625.5,-417.5 547.5,-417.5 547.5,-417.5 541.5,-417.5 535.5,-411.5 535.5,-405.5 535.5,-405.5 535.5,-361.5 535.5,-361.5 535.5,-355.5 541.5,-349.5 547.5,-349.5 547.5,-349.5 625.5,-349.5 625.5,-349.5 631.5,-349.5 637.5,-355.5 637.5,-361.5 637.5,-361.5 637.5,-405.5 637.5,-405.5 637.5,-411.5 631.5,-417.5 625.5,-417.5\"/>\n<text text-anchor=\"start\" x=\"558.5\" y=\"-402.3\" font-family=\"Helvetica,sans-Serif\" font-size=\"14.00\">gini = 0.0</text>\n<text text-anchor=\"start\" x=\"545.5\" y=\"-387.3\" font-family=\"Helvetica,sans-Serif\" font-size=\"14.00\">samples = 17</text>\n<text text-anchor=\"start\" x=\"543.5\" y=\"-372.3\" font-family=\"Helvetica,sans-Serif\" font-size=\"14.00\">value = [17, 0]</text>\n<text text-anchor=\"start\" x=\"559\" y=\"-357.3\" font-family=\"Helvetica,sans-Serif\" font-size=\"14.00\">class = 0</text>\n</g>\n<!-- 1&#45;&gt;9 -->\n<g id=\"edge9\" class=\"edge\">\n<title>1&#45;&gt;9</title>\n<path fill=\"none\" stroke=\"black\" d=\"M586.5,-460.91C586.5,-450.2 586.5,-438.62 586.5,-427.78\"/>\n<polygon fill=\"black\" stroke=\"black\" points=\"590,-427.67 586.5,-417.67 583,-427.67 590,-427.67\"/>\n</g>\n<!-- 3 -->\n<g id=\"node4\" class=\"node\">\n<title>3</title>\n<path fill=\"#e9965a\" stroke=\"black\" d=\"M257,-306C257,-306 144,-306 144,-306 138,-306 132,-300 132,-294 132,-294 132,-235 132,-235 132,-229 138,-223 144,-223 144,-223 257,-223 257,-223 263,-223 269,-229 269,-235 269,-235 269,-294 269,-294 269,-300 263,-306 257,-306\"/>\n<text text-anchor=\"start\" x=\"140\" y=\"-290.8\" font-family=\"Helvetica,sans-Serif\" font-size=\"14.00\">Marital_Status ≤ 0.5</text>\n<text text-anchor=\"start\" x=\"165\" y=\"-275.8\" font-family=\"Helvetica,sans-Serif\" font-size=\"14.00\">gini = 0.245</text>\n<text text-anchor=\"start\" x=\"159.5\" y=\"-260.8\" font-family=\"Helvetica,sans-Serif\" font-size=\"14.00\">samples = 14</text>\n<text text-anchor=\"start\" x=\"157.5\" y=\"-245.8\" font-family=\"Helvetica,sans-Serif\" font-size=\"14.00\">value = [12, 2]</text>\n<text text-anchor=\"start\" x=\"173\" y=\"-230.8\" font-family=\"Helvetica,sans-Serif\" font-size=\"14.00\">class = 0</text>\n</g>\n<!-- 2&#45;&gt;3 -->\n<g id=\"edge3\" class=\"edge\">\n<title>2&#45;&gt;3</title>\n<path fill=\"none\" stroke=\"black\" d=\"M305.64,-341.91C292.4,-332.29 278.18,-321.95 264.61,-312.09\"/>\n<polygon fill=\"black\" stroke=\"black\" points=\"266.41,-309.07 256.26,-306.02 262.29,-314.73 266.41,-309.07\"/>\n</g>\n<!-- 8 -->\n<g id=\"node9\" class=\"node\">\n<title>8</title>\n<path fill=\"#399de5\" stroke=\"black\" d=\"M397,-298.5C397,-298.5 326,-298.5 326,-298.5 320,-298.5 314,-292.5 314,-286.5 314,-286.5 314,-242.5 314,-242.5 314,-236.5 320,-230.5 326,-230.5 326,-230.5 397,-230.5 397,-230.5 403,-230.5 409,-236.5 409,-242.5 409,-242.5 409,-286.5 409,-286.5 409,-292.5 403,-298.5 397,-298.5\"/>\n<text text-anchor=\"start\" x=\"333.5\" y=\"-283.3\" font-family=\"Helvetica,sans-Serif\" font-size=\"14.00\">gini = 0.0</text>\n<text text-anchor=\"start\" x=\"324\" y=\"-268.3\" font-family=\"Helvetica,sans-Serif\" font-size=\"14.00\">samples = 1</text>\n<text text-anchor=\"start\" x=\"322\" y=\"-253.3\" font-family=\"Helvetica,sans-Serif\" font-size=\"14.00\">value = [0, 1]</text>\n<text text-anchor=\"start\" x=\"334\" y=\"-238.3\" font-family=\"Helvetica,sans-Serif\" font-size=\"14.00\">class = 1</text>\n</g>\n<!-- 2&#45;&gt;8 -->\n<g id=\"edge8\" class=\"edge\">\n<title>2&#45;&gt;8</title>\n<path fill=\"none\" stroke=\"black\" d=\"M361.5,-341.91C361.5,-331.2 361.5,-319.62 361.5,-308.78\"/>\n<polygon fill=\"black\" stroke=\"black\" points=\"365,-308.67 361.5,-298.67 358,-308.67 365,-308.67\"/>\n</g>\n<!-- 4 -->\n<g id=\"node5\" class=\"node\">\n<title>4</title>\n<path fill=\"#ffffff\" stroke=\"black\" d=\"M83,-179.5C83,-179.5 12,-179.5 12,-179.5 6,-179.5 0,-173.5 0,-167.5 0,-167.5 0,-123.5 0,-123.5 0,-117.5 6,-111.5 12,-111.5 12,-111.5 83,-111.5 83,-111.5 89,-111.5 95,-117.5 95,-123.5 95,-123.5 95,-167.5 95,-167.5 95,-173.5 89,-179.5 83,-179.5\"/>\n<text text-anchor=\"start\" x=\"19.5\" y=\"-164.3\" font-family=\"Helvetica,sans-Serif\" font-size=\"14.00\">gini = 0.5</text>\n<text text-anchor=\"start\" x=\"10\" y=\"-149.3\" font-family=\"Helvetica,sans-Serif\" font-size=\"14.00\">samples = 2</text>\n<text text-anchor=\"start\" x=\"8\" y=\"-134.3\" font-family=\"Helvetica,sans-Serif\" font-size=\"14.00\">value = [1, 1]</text>\n<text text-anchor=\"start\" x=\"20\" y=\"-119.3\" font-family=\"Helvetica,sans-Serif\" font-size=\"14.00\">class = 0</text>\n</g>\n<!-- 3&#45;&gt;4 -->\n<g id=\"edge4\" class=\"edge\">\n<title>3&#45;&gt;4</title>\n<path fill=\"none\" stroke=\"black\" d=\"M147.42,-222.91C131.69,-210.88 114.5,-197.73 98.88,-185.79\"/>\n<polygon fill=\"black\" stroke=\"black\" points=\"100.94,-182.96 90.87,-179.67 96.69,-188.52 100.94,-182.96\"/>\n</g>\n<!-- 5 -->\n<g id=\"node6\" class=\"node\">\n<title>5</title>\n<path fill=\"#e78c4b\" stroke=\"black\" d=\"M276,-187C276,-187 125,-187 125,-187 119,-187 113,-181 113,-175 113,-175 113,-116 113,-116 113,-110 119,-104 125,-104 125,-104 276,-104 276,-104 282,-104 288,-110 288,-116 288,-116 288,-175 288,-175 288,-181 282,-187 276,-187\"/>\n<text text-anchor=\"start\" x=\"121\" y=\"-171.8\" font-family=\"Helvetica,sans-Serif\" font-size=\"14.00\">Annual_Income ≤ 345.795</text>\n<text text-anchor=\"start\" x=\"165\" y=\"-156.8\" font-family=\"Helvetica,sans-Serif\" font-size=\"14.00\">gini = 0.153</text>\n<text text-anchor=\"start\" x=\"159.5\" y=\"-141.8\" font-family=\"Helvetica,sans-Serif\" font-size=\"14.00\">samples = 12</text>\n<text text-anchor=\"start\" x=\"157.5\" y=\"-126.8\" font-family=\"Helvetica,sans-Serif\" font-size=\"14.00\">value = [11, 1]</text>\n<text text-anchor=\"start\" x=\"173\" y=\"-111.8\" font-family=\"Helvetica,sans-Serif\" font-size=\"14.00\">class = 0</text>\n</g>\n<!-- 3&#45;&gt;5 -->\n<g id=\"edge5\" class=\"edge\">\n<title>3&#45;&gt;5</title>\n<path fill=\"none\" stroke=\"black\" d=\"M200.5,-222.91C200.5,-214.65 200.5,-205.86 200.5,-197.3\"/>\n<polygon fill=\"black\" stroke=\"black\" points=\"204,-197.02 200.5,-187.02 197,-197.02 204,-197.02\"/>\n</g>\n<!-- 6 -->\n<g id=\"node7\" class=\"node\">\n<title>6</title>\n<path fill=\"#ffffff\" stroke=\"black\" d=\"M119,-68C119,-68 48,-68 48,-68 42,-68 36,-62 36,-56 36,-56 36,-12 36,-12 36,-6 42,0 48,0 48,0 119,0 119,0 125,0 131,-6 131,-12 131,-12 131,-56 131,-56 131,-62 125,-68 119,-68\"/>\n<text text-anchor=\"start\" x=\"55.5\" y=\"-52.8\" font-family=\"Helvetica,sans-Serif\" font-size=\"14.00\">gini = 0.5</text>\n<text text-anchor=\"start\" x=\"46\" y=\"-37.8\" font-family=\"Helvetica,sans-Serif\" font-size=\"14.00\">samples = 2</text>\n<text text-anchor=\"start\" x=\"44\" y=\"-22.8\" font-family=\"Helvetica,sans-Serif\" font-size=\"14.00\">value = [1, 1]</text>\n<text text-anchor=\"start\" x=\"56\" y=\"-7.8\" font-family=\"Helvetica,sans-Serif\" font-size=\"14.00\">class = 0</text>\n</g>\n<!-- 5&#45;&gt;6 -->\n<g id=\"edge6\" class=\"edge\">\n<title>5&#45;&gt;6</title>\n<path fill=\"none\" stroke=\"black\" d=\"M156.93,-103.73C146.99,-94.42 136.44,-84.54 126.52,-75.26\"/>\n<polygon fill=\"black\" stroke=\"black\" points=\"128.77,-72.58 119.08,-68.3 123.99,-77.69 128.77,-72.58\"/>\n</g>\n<!-- 7 -->\n<g id=\"node8\" class=\"node\">\n<title>7</title>\n<path fill=\"#e58139\" stroke=\"black\" d=\"M239.5,-68C239.5,-68 161.5,-68 161.5,-68 155.5,-68 149.5,-62 149.5,-56 149.5,-56 149.5,-12 149.5,-12 149.5,-6 155.5,0 161.5,0 161.5,0 239.5,0 239.5,0 245.5,0 251.5,-6 251.5,-12 251.5,-12 251.5,-56 251.5,-56 251.5,-62 245.5,-68 239.5,-68\"/>\n<text text-anchor=\"start\" x=\"172.5\" y=\"-52.8\" font-family=\"Helvetica,sans-Serif\" font-size=\"14.00\">gini = 0.0</text>\n<text text-anchor=\"start\" x=\"159.5\" y=\"-37.8\" font-family=\"Helvetica,sans-Serif\" font-size=\"14.00\">samples = 10</text>\n<text text-anchor=\"start\" x=\"157.5\" y=\"-22.8\" font-family=\"Helvetica,sans-Serif\" font-size=\"14.00\">value = [10, 0]</text>\n<text text-anchor=\"start\" x=\"173\" y=\"-7.8\" font-family=\"Helvetica,sans-Serif\" font-size=\"14.00\">class = 0</text>\n</g>\n<!-- 5&#45;&gt;7 -->\n<g id=\"edge7\" class=\"edge\">\n<title>5&#45;&gt;7</title>\n<path fill=\"none\" stroke=\"black\" d=\"M200.5,-103.73C200.5,-95.52 200.5,-86.86 200.5,-78.56\"/>\n<polygon fill=\"black\" stroke=\"black\" points=\"204,-78.3 200.5,-68.3 197,-78.3 204,-78.3\"/>\n</g>\n<!-- 11 -->\n<g id=\"node12\" class=\"node\">\n<title>11</title>\n<path fill=\"#f2c19e\" stroke=\"black\" d=\"M815,-425C815,-425 722,-425 722,-425 716,-425 710,-419 710,-413 710,-413 710,-354 710,-354 710,-348 716,-342 722,-342 722,-342 815,-342 815,-342 821,-342 827,-348 827,-354 827,-354 827,-413 827,-413 827,-419 821,-425 815,-425\"/>\n<text text-anchor=\"start\" x=\"735.5\" y=\"-409.8\" font-family=\"Helvetica,sans-Serif\" font-size=\"14.00\">Age ≤ 52.5</text>\n<text text-anchor=\"start\" x=\"733\" y=\"-394.8\" font-family=\"Helvetica,sans-Serif\" font-size=\"14.00\">gini = 0.448</text>\n<text text-anchor=\"start\" x=\"723.5\" y=\"-379.8\" font-family=\"Helvetica,sans-Serif\" font-size=\"14.00\">samples = 272</text>\n<text text-anchor=\"start\" x=\"718\" y=\"-364.8\" font-family=\"Helvetica,sans-Serif\" font-size=\"14.00\">value = [180, 92]</text>\n<text text-anchor=\"start\" x=\"741\" y=\"-349.8\" font-family=\"Helvetica,sans-Serif\" font-size=\"14.00\">class = 0</text>\n</g>\n<!-- 10&#45;&gt;11 -->\n<g id=\"edge11\" class=\"edge\">\n<title>10&#45;&gt;11</title>\n<path fill=\"none\" stroke=\"black\" d=\"M768.5,-460.91C768.5,-452.65 768.5,-443.86 768.5,-435.3\"/>\n<polygon fill=\"black\" stroke=\"black\" points=\"772,-435.02 768.5,-425.02 765,-435.02 772,-435.02\"/>\n</g>\n<!-- 24 -->\n<g id=\"node25\" class=\"node\">\n<title>24</title>\n<path fill=\"#eba06a\" stroke=\"black\" d=\"M1025,-425C1025,-425 894,-425 894,-425 888,-425 882,-419 882,-413 882,-413 882,-354 882,-354 882,-348 888,-342 894,-342 894,-342 1025,-342 1025,-342 1031,-342 1037,-348 1037,-354 1037,-354 1037,-413 1037,-413 1037,-419 1031,-425 1025,-425\"/>\n<text text-anchor=\"start\" x=\"890\" y=\"-409.8\" font-family=\"Helvetica,sans-Serif\" font-size=\"14.00\">Loan_Amount ≤ &#45;4.415</text>\n<text text-anchor=\"start\" x=\"924\" y=\"-394.8\" font-family=\"Helvetica,sans-Serif\" font-size=\"14.00\">gini = 0.317</text>\n<text text-anchor=\"start\" x=\"918.5\" y=\"-379.8\" font-family=\"Helvetica,sans-Serif\" font-size=\"14.00\">samples = 96</text>\n<text text-anchor=\"start\" x=\"912.5\" y=\"-364.8\" font-family=\"Helvetica,sans-Serif\" font-size=\"14.00\">value = [77, 19]</text>\n<text text-anchor=\"start\" x=\"932\" y=\"-349.8\" font-family=\"Helvetica,sans-Serif\" font-size=\"14.00\">class = 0</text>\n</g>\n<!-- 10&#45;&gt;24 -->\n<g id=\"edge24\" class=\"edge\">\n<title>10&#45;&gt;24</title>\n<path fill=\"none\" stroke=\"black\" d=\"M834.77,-460.91C850.91,-451.02 868.3,-440.37 884.81,-430.25\"/>\n<polygon fill=\"black\" stroke=\"black\" points=\"886.65,-433.23 893.35,-425.02 883,-427.26 886.65,-433.23\"/>\n</g>\n<!-- 12 -->\n<g id=\"node13\" class=\"node\">\n<title>12</title>\n<path fill=\"#f7d8c2\" stroke=\"black\" d=\"M677.5,-306C677.5,-306 567.5,-306 567.5,-306 561.5,-306 555.5,-300 555.5,-294 555.5,-294 555.5,-235 555.5,-235 555.5,-229 561.5,-223 567.5,-223 567.5,-223 677.5,-223 677.5,-223 683.5,-223 689.5,-229 689.5,-235 689.5,-235 689.5,-294 689.5,-294 689.5,-300 683.5,-306 677.5,-306\"/>\n<text text-anchor=\"start\" x=\"563.5\" y=\"-290.8\" font-family=\"Helvetica,sans-Serif\" font-size=\"14.00\">Applicant_ID ≤ 90.5</text>\n<text text-anchor=\"start\" x=\"587\" y=\"-275.8\" font-family=\"Helvetica,sans-Serif\" font-size=\"14.00\">gini = 0.484</text>\n<text text-anchor=\"start\" x=\"577.5\" y=\"-260.8\" font-family=\"Helvetica,sans-Serif\" font-size=\"14.00\">samples = 166</text>\n<text text-anchor=\"start\" x=\"575.5\" y=\"-245.8\" font-family=\"Helvetica,sans-Serif\" font-size=\"14.00\">value = [98, 68]</text>\n<text text-anchor=\"start\" x=\"595\" y=\"-230.8\" font-family=\"Helvetica,sans-Serif\" font-size=\"14.00\">class = 0</text>\n</g>\n<!-- 11&#45;&gt;12 -->\n<g id=\"edge12\" class=\"edge\">\n<title>11&#45;&gt;12</title>\n<path fill=\"none\" stroke=\"black\" d=\"M717.85,-341.91C705.96,-332.38 693.19,-322.15 680.99,-312.37\"/>\n<polygon fill=\"black\" stroke=\"black\" points=\"683.06,-309.54 673.06,-306.02 678.68,-315.01 683.06,-309.54\"/>\n</g>\n<!-- 19 -->\n<g id=\"node20\" class=\"node\">\n<title>19</title>\n<path fill=\"#eda673\" stroke=\"black\" d=\"M852,-306C852,-306 753,-306 753,-306 747,-306 741,-300 741,-294 741,-294 741,-235 741,-235 741,-229 747,-223 753,-223 753,-223 852,-223 852,-223 858,-223 864,-229 864,-235 864,-235 864,-294 864,-294 864,-300 858,-306 852,-306\"/>\n<text text-anchor=\"start\" x=\"749\" y=\"-290.8\" font-family=\"Helvetica,sans-Serif\" font-size=\"14.00\">Dependents ≤ 3.5</text>\n<text text-anchor=\"start\" x=\"770.5\" y=\"-275.8\" font-family=\"Helvetica,sans-Serif\" font-size=\"14.00\">gini = 0.35</text>\n<text text-anchor=\"start\" x=\"757.5\" y=\"-260.8\" font-family=\"Helvetica,sans-Serif\" font-size=\"14.00\">samples = 106</text>\n<text text-anchor=\"start\" x=\"755.5\" y=\"-245.8\" font-family=\"Helvetica,sans-Serif\" font-size=\"14.00\">value = [82, 24]</text>\n<text text-anchor=\"start\" x=\"775\" y=\"-230.8\" font-family=\"Helvetica,sans-Serif\" font-size=\"14.00\">class = 0</text>\n</g>\n<!-- 11&#45;&gt;19 -->\n<g id=\"edge19\" class=\"edge\">\n<title>11&#45;&gt;19</title>\n<path fill=\"none\" stroke=\"black\" d=\"M780.3,-341.91C782.75,-333.47 785.36,-324.48 787.9,-315.74\"/>\n<polygon fill=\"black\" stroke=\"black\" points=\"791.3,-316.6 790.72,-306.02 784.57,-314.65 791.3,-316.6\"/>\n</g>\n<!-- 13 -->\n<g id=\"node14\" class=\"node\">\n<title>13</title>\n<path fill=\"#eca36e\" stroke=\"black\" d=\"M503.5,-187C503.5,-187 369.5,-187 369.5,-187 363.5,-187 357.5,-181 357.5,-175 357.5,-175 357.5,-116 357.5,-116 357.5,-110 363.5,-104 369.5,-104 369.5,-104 503.5,-104 503.5,-104 509.5,-104 515.5,-110 515.5,-116 515.5,-116 515.5,-175 515.5,-175 515.5,-181 509.5,-187 503.5,-187\"/>\n<text text-anchor=\"start\" x=\"365.5\" y=\"-171.8\" font-family=\"Helvetica,sans-Serif\" font-size=\"14.00\">Loan_Amount ≤ 162.72</text>\n<text text-anchor=\"start\" x=\"401\" y=\"-156.8\" font-family=\"Helvetica,sans-Serif\" font-size=\"14.00\">gini = 0.332</text>\n<text text-anchor=\"start\" x=\"395.5\" y=\"-141.8\" font-family=\"Helvetica,sans-Serif\" font-size=\"14.00\">samples = 38</text>\n<text text-anchor=\"start\" x=\"393.5\" y=\"-126.8\" font-family=\"Helvetica,sans-Serif\" font-size=\"14.00\">value = [30, 8]</text>\n<text text-anchor=\"start\" x=\"409\" y=\"-111.8\" font-family=\"Helvetica,sans-Serif\" font-size=\"14.00\">class = 0</text>\n</g>\n<!-- 12&#45;&gt;13 -->\n<g id=\"edge13\" class=\"edge\">\n<title>12&#45;&gt;13</title>\n<path fill=\"none\" stroke=\"black\" d=\"M557.97,-222.91C542.39,-213.11 525.63,-202.56 509.68,-192.53\"/>\n<polygon fill=\"black\" stroke=\"black\" points=\"511.25,-189.38 500.92,-187.02 507.52,-195.31 511.25,-189.38\"/>\n</g>\n<!-- 16 -->\n<g id=\"node17\" class=\"node\">\n<title>16</title>\n<path fill=\"#fcf0e8\" stroke=\"black\" d=\"M665.5,-187C665.5,-187 579.5,-187 579.5,-187 573.5,-187 567.5,-181 567.5,-175 567.5,-175 567.5,-116 567.5,-116 567.5,-110 573.5,-104 579.5,-104 579.5,-104 665.5,-104 665.5,-104 671.5,-104 677.5,-110 677.5,-116 677.5,-116 677.5,-175 677.5,-175 677.5,-181 671.5,-187 665.5,-187\"/>\n<text text-anchor=\"start\" x=\"589.5\" y=\"-171.8\" font-family=\"Helvetica,sans-Serif\" font-size=\"14.00\">Age ≤ 27.0</text>\n<text text-anchor=\"start\" x=\"587\" y=\"-156.8\" font-family=\"Helvetica,sans-Serif\" font-size=\"14.00\">gini = 0.498</text>\n<text text-anchor=\"start\" x=\"577.5\" y=\"-141.8\" font-family=\"Helvetica,sans-Serif\" font-size=\"14.00\">samples = 128</text>\n<text text-anchor=\"start\" x=\"575.5\" y=\"-126.8\" font-family=\"Helvetica,sans-Serif\" font-size=\"14.00\">value = [68, 60]</text>\n<text text-anchor=\"start\" x=\"595\" y=\"-111.8\" font-family=\"Helvetica,sans-Serif\" font-size=\"14.00\">class = 0</text>\n</g>\n<!-- 12&#45;&gt;16 -->\n<g id=\"edge16\" class=\"edge\">\n<title>12&#45;&gt;16</title>\n<path fill=\"none\" stroke=\"black\" d=\"M622.5,-222.91C622.5,-214.65 622.5,-205.86 622.5,-197.3\"/>\n<polygon fill=\"black\" stroke=\"black\" points=\"626,-197.02 622.5,-187.02 619,-197.02 626,-197.02\"/>\n</g>\n<!-- 14 -->\n<g id=\"node15\" class=\"node\">\n<title>14</title>\n<path fill=\"#deeffb\" stroke=\"black\" d=\"M355.5,-68C355.5,-68 281.5,-68 281.5,-68 275.5,-68 269.5,-62 269.5,-56 269.5,-56 269.5,-12 269.5,-12 269.5,-6 275.5,0 281.5,0 281.5,0 355.5,0 355.5,0 361.5,0 367.5,-6 367.5,-12 367.5,-12 367.5,-56 367.5,-56 367.5,-62 361.5,-68 355.5,-68\"/>\n<text text-anchor=\"start\" x=\"283\" y=\"-52.8\" font-family=\"Helvetica,sans-Serif\" font-size=\"14.00\">gini = 0.496</text>\n<text text-anchor=\"start\" x=\"277.5\" y=\"-37.8\" font-family=\"Helvetica,sans-Serif\" font-size=\"14.00\">samples = 11</text>\n<text text-anchor=\"start\" x=\"279\" y=\"-22.8\" font-family=\"Helvetica,sans-Serif\" font-size=\"14.00\">value = [5, 6]</text>\n<text text-anchor=\"start\" x=\"291\" y=\"-7.8\" font-family=\"Helvetica,sans-Serif\" font-size=\"14.00\">class = 1</text>\n</g>\n<!-- 13&#45;&gt;14 -->\n<g id=\"edge14\" class=\"edge\">\n<title>13&#45;&gt;14</title>\n<path fill=\"none\" stroke=\"black\" d=\"M392.56,-103.73C382.54,-94.42 371.89,-84.54 361.89,-75.26\"/>\n<polygon fill=\"black\" stroke=\"black\" points=\"364.1,-72.54 354.38,-68.3 359.33,-77.67 364.1,-72.54\"/>\n</g>\n<!-- 15 -->\n<g id=\"node16\" class=\"node\">\n<title>15</title>\n<path fill=\"#e78b49\" stroke=\"black\" d=\"M475.5,-68C475.5,-68 397.5,-68 397.5,-68 391.5,-68 385.5,-62 385.5,-56 385.5,-56 385.5,-12 385.5,-12 385.5,-6 391.5,0 397.5,0 397.5,0 475.5,0 475.5,0 481.5,0 487.5,-6 487.5,-12 487.5,-12 487.5,-56 487.5,-56 487.5,-62 481.5,-68 475.5,-68\"/>\n<text text-anchor=\"start\" x=\"401\" y=\"-52.8\" font-family=\"Helvetica,sans-Serif\" font-size=\"14.00\">gini = 0.137</text>\n<text text-anchor=\"start\" x=\"395.5\" y=\"-37.8\" font-family=\"Helvetica,sans-Serif\" font-size=\"14.00\">samples = 27</text>\n<text text-anchor=\"start\" x=\"393.5\" y=\"-22.8\" font-family=\"Helvetica,sans-Serif\" font-size=\"14.00\">value = [25, 2]</text>\n<text text-anchor=\"start\" x=\"409\" y=\"-7.8\" font-family=\"Helvetica,sans-Serif\" font-size=\"14.00\">class = 0</text>\n</g>\n<!-- 13&#45;&gt;15 -->\n<g id=\"edge15\" class=\"edge\">\n<title>13&#45;&gt;15</title>\n<path fill=\"none\" stroke=\"black\" d=\"M436.5,-103.73C436.5,-95.52 436.5,-86.86 436.5,-78.56\"/>\n<polygon fill=\"black\" stroke=\"black\" points=\"440,-78.3 436.5,-68.3 433,-78.3 440,-78.3\"/>\n</g>\n<!-- 17 -->\n<g id=\"node18\" class=\"node\">\n<title>17</title>\n<path fill=\"#6ab6ec\" stroke=\"black\" d=\"M589,-68C589,-68 518,-68 518,-68 512,-68 506,-62 506,-56 506,-56 506,-12 506,-12 506,-6 512,0 518,0 518,0 589,0 589,0 595,0 601,-6 601,-12 601,-12 601,-56 601,-56 601,-62 595,-68 589,-68\"/>\n<text text-anchor=\"start\" x=\"521.5\" y=\"-52.8\" font-family=\"Helvetica,sans-Serif\" font-size=\"14.00\">gini = 0.32</text>\n<text text-anchor=\"start\" x=\"516\" y=\"-37.8\" font-family=\"Helvetica,sans-Serif\" font-size=\"14.00\">samples = 5</text>\n<text text-anchor=\"start\" x=\"514\" y=\"-22.8\" font-family=\"Helvetica,sans-Serif\" font-size=\"14.00\">value = [1, 4]</text>\n<text text-anchor=\"start\" x=\"526\" y=\"-7.8\" font-family=\"Helvetica,sans-Serif\" font-size=\"14.00\">class = 1</text>\n</g>\n<!-- 16&#45;&gt;17 -->\n<g id=\"edge17\" class=\"edge\">\n<title>16&#45;&gt;17</title>\n<path fill=\"none\" stroke=\"black\" d=\"M596.81,-103.73C591.29,-94.97 585.45,-85.7 579.91,-76.91\"/>\n<polygon fill=\"black\" stroke=\"black\" points=\"582.78,-74.89 574.48,-68.3 576.85,-78.63 582.78,-74.89\"/>\n</g>\n<!-- 18 -->\n<g id=\"node19\" class=\"node\">\n<title>18</title>\n<path fill=\"#fbeade\" stroke=\"black\" d=\"M717.5,-68C717.5,-68 631.5,-68 631.5,-68 625.5,-68 619.5,-62 619.5,-56 619.5,-56 619.5,-12 619.5,-12 619.5,-6 625.5,0 631.5,0 631.5,0 717.5,0 717.5,0 723.5,0 729.5,-6 729.5,-12 729.5,-12 729.5,-56 729.5,-56 729.5,-62 723.5,-68 717.5,-68\"/>\n<text text-anchor=\"start\" x=\"639\" y=\"-52.8\" font-family=\"Helvetica,sans-Serif\" font-size=\"14.00\">gini = 0.496</text>\n<text text-anchor=\"start\" x=\"629.5\" y=\"-37.8\" font-family=\"Helvetica,sans-Serif\" font-size=\"14.00\">samples = 123</text>\n<text text-anchor=\"start\" x=\"627.5\" y=\"-22.8\" font-family=\"Helvetica,sans-Serif\" font-size=\"14.00\">value = [67, 56]</text>\n<text text-anchor=\"start\" x=\"647\" y=\"-7.8\" font-family=\"Helvetica,sans-Serif\" font-size=\"14.00\">class = 0</text>\n</g>\n<!-- 16&#45;&gt;18 -->\n<g id=\"edge18\" class=\"edge\">\n<title>16&#45;&gt;18</title>\n<path fill=\"none\" stroke=\"black\" d=\"M641.86,-103.73C645.93,-95.15 650.24,-86.09 654.34,-77.46\"/>\n<polygon fill=\"black\" stroke=\"black\" points=\"657.56,-78.83 658.69,-68.3 651.24,-75.83 657.56,-78.83\"/>\n</g>\n<!-- 20 -->\n<g id=\"node21\" class=\"node\">\n<title>20</title>\n<path fill=\"#eca471\" stroke=\"black\" d=\"M861.5,-187C861.5,-187 743.5,-187 743.5,-187 737.5,-187 731.5,-181 731.5,-175 731.5,-175 731.5,-116 731.5,-116 731.5,-110 737.5,-104 743.5,-104 743.5,-104 861.5,-104 861.5,-104 867.5,-104 873.5,-110 873.5,-116 873.5,-116 873.5,-175 873.5,-175 873.5,-181 867.5,-187 861.5,-187\"/>\n<text text-anchor=\"start\" x=\"739.5\" y=\"-171.8\" font-family=\"Helvetica,sans-Serif\" font-size=\"14.00\">Applicant_ID ≤ 249.5</text>\n<text text-anchor=\"start\" x=\"767\" y=\"-156.8\" font-family=\"Helvetica,sans-Serif\" font-size=\"14.00\">gini = 0.342</text>\n<text text-anchor=\"start\" x=\"757.5\" y=\"-141.8\" font-family=\"Helvetica,sans-Serif\" font-size=\"14.00\">samples = 105</text>\n<text text-anchor=\"start\" x=\"755.5\" y=\"-126.8\" font-family=\"Helvetica,sans-Serif\" font-size=\"14.00\">value = [82, 23]</text>\n<text text-anchor=\"start\" x=\"775\" y=\"-111.8\" font-family=\"Helvetica,sans-Serif\" font-size=\"14.00\">class = 0</text>\n</g>\n<!-- 19&#45;&gt;20 -->\n<g id=\"edge20\" class=\"edge\">\n<title>19&#45;&gt;20</title>\n<path fill=\"none\" stroke=\"black\" d=\"M802.5,-222.91C802.5,-214.65 802.5,-205.86 802.5,-197.3\"/>\n<polygon fill=\"black\" stroke=\"black\" points=\"806,-197.02 802.5,-187.02 799,-197.02 806,-197.02\"/>\n</g>\n<!-- 23 -->\n<g id=\"node24\" class=\"node\">\n<title>23</title>\n<path fill=\"#399de5\" stroke=\"black\" d=\"M975,-179.5C975,-179.5 904,-179.5 904,-179.5 898,-179.5 892,-173.5 892,-167.5 892,-167.5 892,-123.5 892,-123.5 892,-117.5 898,-111.5 904,-111.5 904,-111.5 975,-111.5 975,-111.5 981,-111.5 987,-117.5 987,-123.5 987,-123.5 987,-167.5 987,-167.5 987,-173.5 981,-179.5 975,-179.5\"/>\n<text text-anchor=\"start\" x=\"911.5\" y=\"-164.3\" font-family=\"Helvetica,sans-Serif\" font-size=\"14.00\">gini = 0.0</text>\n<text text-anchor=\"start\" x=\"902\" y=\"-149.3\" font-family=\"Helvetica,sans-Serif\" font-size=\"14.00\">samples = 1</text>\n<text text-anchor=\"start\" x=\"900\" y=\"-134.3\" font-family=\"Helvetica,sans-Serif\" font-size=\"14.00\">value = [0, 1]</text>\n<text text-anchor=\"start\" x=\"912\" y=\"-119.3\" font-family=\"Helvetica,sans-Serif\" font-size=\"14.00\">class = 1</text>\n</g>\n<!-- 19&#45;&gt;23 -->\n<g id=\"edge23\" class=\"edge\">\n<title>19&#45;&gt;23</title>\n<path fill=\"none\" stroke=\"black\" d=\"M850.03,-222.91C863.86,-211.1 878.94,-198.22 892.72,-186.45\"/>\n<polygon fill=\"black\" stroke=\"black\" points=\"895.33,-188.82 900.66,-179.67 890.79,-183.5 895.33,-188.82\"/>\n</g>\n<!-- 21 -->\n<g id=\"node22\" class=\"node\">\n<title>21</title>\n<path fill=\"#ea975c\" stroke=\"black\" d=\"M845.5,-68C845.5,-68 759.5,-68 759.5,-68 753.5,-68 747.5,-62 747.5,-56 747.5,-56 747.5,-12 747.5,-12 747.5,-6 753.5,0 759.5,0 759.5,0 845.5,0 845.5,0 851.5,0 857.5,-6 857.5,-12 857.5,-12 857.5,-56 857.5,-56 857.5,-62 851.5,-68 845.5,-68\"/>\n<text text-anchor=\"start\" x=\"767\" y=\"-52.8\" font-family=\"Helvetica,sans-Serif\" font-size=\"14.00\">gini = 0.256</text>\n<text text-anchor=\"start\" x=\"761.5\" y=\"-37.8\" font-family=\"Helvetica,sans-Serif\" font-size=\"14.00\">samples = 73</text>\n<text text-anchor=\"start\" x=\"755.5\" y=\"-22.8\" font-family=\"Helvetica,sans-Serif\" font-size=\"14.00\">value = [62, 11]</text>\n<text text-anchor=\"start\" x=\"775\" y=\"-7.8\" font-family=\"Helvetica,sans-Serif\" font-size=\"14.00\">class = 0</text>\n</g>\n<!-- 20&#45;&gt;21 -->\n<g id=\"edge21\" class=\"edge\">\n<title>20&#45;&gt;21</title>\n<path fill=\"none\" stroke=\"black\" d=\"M802.5,-103.73C802.5,-95.52 802.5,-86.86 802.5,-78.56\"/>\n<polygon fill=\"black\" stroke=\"black\" points=\"806,-78.3 802.5,-68.3 799,-78.3 806,-78.3\"/>\n</g>\n<!-- 22 -->\n<g id=\"node23\" class=\"node\">\n<title>22</title>\n<path fill=\"#f5cdb0\" stroke=\"black\" d=\"M973.5,-68C973.5,-68 887.5,-68 887.5,-68 881.5,-68 875.5,-62 875.5,-56 875.5,-56 875.5,-12 875.5,-12 875.5,-6 881.5,0 887.5,0 887.5,0 973.5,0 973.5,0 979.5,0 985.5,-6 985.5,-12 985.5,-12 985.5,-56 985.5,-56 985.5,-62 979.5,-68 973.5,-68\"/>\n<text text-anchor=\"start\" x=\"895\" y=\"-52.8\" font-family=\"Helvetica,sans-Serif\" font-size=\"14.00\">gini = 0.469</text>\n<text text-anchor=\"start\" x=\"889.5\" y=\"-37.8\" font-family=\"Helvetica,sans-Serif\" font-size=\"14.00\">samples = 32</text>\n<text text-anchor=\"start\" x=\"883.5\" y=\"-22.8\" font-family=\"Helvetica,sans-Serif\" font-size=\"14.00\">value = [20, 12]</text>\n<text text-anchor=\"start\" x=\"903\" y=\"-7.8\" font-family=\"Helvetica,sans-Serif\" font-size=\"14.00\">class = 0</text>\n</g>\n<!-- 20&#45;&gt;22 -->\n<g id=\"edge22\" class=\"edge\">\n<title>20&#45;&gt;22</title>\n<path fill=\"none\" stroke=\"black\" d=\"M850.16,-103.73C861.14,-94.33 872.81,-84.35 883.76,-74.99\"/>\n<polygon fill=\"black\" stroke=\"black\" points=\"886.25,-77.46 891.57,-68.3 881.7,-72.14 886.25,-77.46\"/>\n</g>\n<!-- 25 -->\n<g id=\"node26\" class=\"node\">\n<title>25</title>\n<path fill=\"#399de5\" stroke=\"black\" d=\"M995,-298.5C995,-298.5 924,-298.5 924,-298.5 918,-298.5 912,-292.5 912,-286.5 912,-286.5 912,-242.5 912,-242.5 912,-236.5 918,-230.5 924,-230.5 924,-230.5 995,-230.5 995,-230.5 1001,-230.5 1007,-236.5 1007,-242.5 1007,-242.5 1007,-286.5 1007,-286.5 1007,-292.5 1001,-298.5 995,-298.5\"/>\n<text text-anchor=\"start\" x=\"931.5\" y=\"-283.3\" font-family=\"Helvetica,sans-Serif\" font-size=\"14.00\">gini = 0.0</text>\n<text text-anchor=\"start\" x=\"922\" y=\"-268.3\" font-family=\"Helvetica,sans-Serif\" font-size=\"14.00\">samples = 1</text>\n<text text-anchor=\"start\" x=\"920\" y=\"-253.3\" font-family=\"Helvetica,sans-Serif\" font-size=\"14.00\">value = [0, 1]</text>\n<text text-anchor=\"start\" x=\"932\" y=\"-238.3\" font-family=\"Helvetica,sans-Serif\" font-size=\"14.00\">class = 1</text>\n</g>\n<!-- 24&#45;&gt;25 -->\n<g id=\"edge25\" class=\"edge\">\n<title>24&#45;&gt;25</title>\n<path fill=\"none\" stroke=\"black\" d=\"M959.5,-341.91C959.5,-331.2 959.5,-319.62 959.5,-308.78\"/>\n<polygon fill=\"black\" stroke=\"black\" points=\"963,-308.67 959.5,-298.67 956,-308.67 963,-308.67\"/>\n</g>\n<!-- 26 -->\n<g id=\"node27\" class=\"node\">\n<title>26</title>\n<path fill=\"#eb9e67\" stroke=\"black\" d=\"M1136.5,-306C1136.5,-306 1050.5,-306 1050.5,-306 1044.5,-306 1038.5,-300 1038.5,-294 1038.5,-294 1038.5,-235 1038.5,-235 1038.5,-229 1044.5,-223 1050.5,-223 1050.5,-223 1136.5,-223 1136.5,-223 1142.5,-223 1148.5,-229 1148.5,-235 1148.5,-235 1148.5,-294 1148.5,-294 1148.5,-300 1142.5,-306 1136.5,-306\"/>\n<text text-anchor=\"start\" x=\"1060.5\" y=\"-290.8\" font-family=\"Helvetica,sans-Serif\" font-size=\"14.00\">Age ≤ 40.5</text>\n<text text-anchor=\"start\" x=\"1058\" y=\"-275.8\" font-family=\"Helvetica,sans-Serif\" font-size=\"14.00\">gini = 0.307</text>\n<text text-anchor=\"start\" x=\"1052.5\" y=\"-260.8\" font-family=\"Helvetica,sans-Serif\" font-size=\"14.00\">samples = 95</text>\n<text text-anchor=\"start\" x=\"1046.5\" y=\"-245.8\" font-family=\"Helvetica,sans-Serif\" font-size=\"14.00\">value = [77, 18]</text>\n<text text-anchor=\"start\" x=\"1066\" y=\"-230.8\" font-family=\"Helvetica,sans-Serif\" font-size=\"14.00\">class = 0</text>\n</g>\n<!-- 24&#45;&gt;26 -->\n<g id=\"edge26\" class=\"edge\">\n<title>24&#45;&gt;26</title>\n<path fill=\"none\" stroke=\"black\" d=\"M1005.99,-341.91C1016.8,-332.47 1028.4,-322.34 1039.5,-312.65\"/>\n<polygon fill=\"black\" stroke=\"black\" points=\"1041.86,-315.23 1047.09,-306.02 1037.26,-309.96 1041.86,-315.23\"/>\n</g>\n<!-- 27 -->\n<g id=\"node28\" class=\"node\">\n<title>27</title>\n<path fill=\"#f1ba92\" stroke=\"black\" d=\"M1152.5,-187C1152.5,-187 1034.5,-187 1034.5,-187 1028.5,-187 1022.5,-181 1022.5,-175 1022.5,-175 1022.5,-116 1022.5,-116 1022.5,-110 1028.5,-104 1034.5,-104 1034.5,-104 1152.5,-104 1152.5,-104 1158.5,-104 1164.5,-110 1164.5,-116 1164.5,-116 1164.5,-175 1164.5,-175 1164.5,-181 1158.5,-187 1152.5,-187\"/>\n<text text-anchor=\"start\" x=\"1030.5\" y=\"-171.8\" font-family=\"Helvetica,sans-Serif\" font-size=\"14.00\">Applicant_ID ≤ 472.5</text>\n<text text-anchor=\"start\" x=\"1058\" y=\"-156.8\" font-family=\"Helvetica,sans-Serif\" font-size=\"14.00\">gini = 0.428</text>\n<text text-anchor=\"start\" x=\"1052.5\" y=\"-141.8\" font-family=\"Helvetica,sans-Serif\" font-size=\"14.00\">samples = 29</text>\n<text text-anchor=\"start\" x=\"1050.5\" y=\"-126.8\" font-family=\"Helvetica,sans-Serif\" font-size=\"14.00\">value = [20, 9]</text>\n<text text-anchor=\"start\" x=\"1066\" y=\"-111.8\" font-family=\"Helvetica,sans-Serif\" font-size=\"14.00\">class = 0</text>\n</g>\n<!-- 26&#45;&gt;27 -->\n<g id=\"edge27\" class=\"edge\">\n<title>26&#45;&gt;27</title>\n<path fill=\"none\" stroke=\"black\" d=\"M1093.5,-222.91C1093.5,-214.65 1093.5,-205.86 1093.5,-197.3\"/>\n<polygon fill=\"black\" stroke=\"black\" points=\"1097,-197.02 1093.5,-187.02 1090,-197.02 1097,-197.02\"/>\n</g>\n<!-- 30 -->\n<g id=\"node31\" class=\"node\">\n<title>30</title>\n<path fill=\"#e99558\" stroke=\"black\" d=\"M1364,-187C1364,-187 1213,-187 1213,-187 1207,-187 1201,-181 1201,-175 1201,-175 1201,-116 1201,-116 1201,-110 1207,-104 1213,-104 1213,-104 1364,-104 1364,-104 1370,-104 1376,-110 1376,-116 1376,-116 1376,-175 1376,-175 1376,-181 1370,-187 1364,-187\"/>\n<text text-anchor=\"start\" x=\"1209\" y=\"-171.8\" font-family=\"Helvetica,sans-Serif\" font-size=\"14.00\">Annual_Income ≤ 739.855</text>\n<text text-anchor=\"start\" x=\"1253\" y=\"-156.8\" font-family=\"Helvetica,sans-Serif\" font-size=\"14.00\">gini = 0.236</text>\n<text text-anchor=\"start\" x=\"1247.5\" y=\"-141.8\" font-family=\"Helvetica,sans-Serif\" font-size=\"14.00\">samples = 66</text>\n<text text-anchor=\"start\" x=\"1245.5\" y=\"-126.8\" font-family=\"Helvetica,sans-Serif\" font-size=\"14.00\">value = [57, 9]</text>\n<text text-anchor=\"start\" x=\"1261\" y=\"-111.8\" font-family=\"Helvetica,sans-Serif\" font-size=\"14.00\">class = 0</text>\n</g>\n<!-- 26&#45;&gt;30 -->\n<g id=\"edge30\" class=\"edge\">\n<title>26&#45;&gt;30</title>\n<path fill=\"none\" stroke=\"black\" d=\"M1148.6,-230.44C1168.3,-218.62 1190.86,-205.08 1212.04,-192.38\"/>\n<polygon fill=\"black\" stroke=\"black\" points=\"1213.93,-195.33 1220.7,-187.18 1210.32,-189.32 1213.93,-195.33\"/>\n</g>\n<!-- 28 -->\n<g id=\"node29\" class=\"node\">\n<title>28</title>\n<path fill=\"#eeab7b\" stroke=\"black\" d=\"M1093.5,-68C1093.5,-68 1015.5,-68 1015.5,-68 1009.5,-68 1003.5,-62 1003.5,-56 1003.5,-56 1003.5,-12 1003.5,-12 1003.5,-6 1009.5,0 1015.5,0 1015.5,0 1093.5,0 1093.5,0 1099.5,0 1105.5,-6 1105.5,-12 1105.5,-12 1105.5,-56 1105.5,-56 1105.5,-62 1099.5,-68 1093.5,-68\"/>\n<text text-anchor=\"start\" x=\"1019\" y=\"-52.8\" font-family=\"Helvetica,sans-Serif\" font-size=\"14.00\">gini = 0.375</text>\n<text text-anchor=\"start\" x=\"1013.5\" y=\"-37.8\" font-family=\"Helvetica,sans-Serif\" font-size=\"14.00\">samples = 24</text>\n<text text-anchor=\"start\" x=\"1011.5\" y=\"-22.8\" font-family=\"Helvetica,sans-Serif\" font-size=\"14.00\">value = [18, 6]</text>\n<text text-anchor=\"start\" x=\"1027\" y=\"-7.8\" font-family=\"Helvetica,sans-Serif\" font-size=\"14.00\">class = 0</text>\n</g>\n<!-- 27&#45;&gt;28 -->\n<g id=\"edge28\" class=\"edge\">\n<title>27&#45;&gt;28</title>\n<path fill=\"none\" stroke=\"black\" d=\"M1078.98,-103.73C1075.96,-95.24 1072.76,-86.28 1069.72,-77.73\"/>\n<polygon fill=\"black\" stroke=\"black\" points=\"1073.01,-76.55 1066.36,-68.3 1066.42,-78.89 1073.01,-76.55\"/>\n</g>\n<!-- 29 -->\n<g id=\"node30\" class=\"node\">\n<title>29</title>\n<path fill=\"#bddef6\" stroke=\"black\" d=\"M1207,-68C1207,-68 1136,-68 1136,-68 1130,-68 1124,-62 1124,-56 1124,-56 1124,-12 1124,-12 1124,-6 1130,0 1136,0 1136,0 1207,0 1207,0 1213,0 1219,-6 1219,-12 1219,-12 1219,-56 1219,-56 1219,-62 1213,-68 1207,-68\"/>\n<text text-anchor=\"start\" x=\"1139.5\" y=\"-52.8\" font-family=\"Helvetica,sans-Serif\" font-size=\"14.00\">gini = 0.48</text>\n<text text-anchor=\"start\" x=\"1134\" y=\"-37.8\" font-family=\"Helvetica,sans-Serif\" font-size=\"14.00\">samples = 5</text>\n<text text-anchor=\"start\" x=\"1132\" y=\"-22.8\" font-family=\"Helvetica,sans-Serif\" font-size=\"14.00\">value = [2, 3]</text>\n<text text-anchor=\"start\" x=\"1144\" y=\"-7.8\" font-family=\"Helvetica,sans-Serif\" font-size=\"14.00\">class = 1</text>\n</g>\n<!-- 27&#45;&gt;29 -->\n<g id=\"edge29\" class=\"edge\">\n<title>27&#45;&gt;29</title>\n<path fill=\"none\" stroke=\"black\" d=\"M1122.54,-103.73C1128.85,-94.88 1135.52,-85.51 1141.85,-76.63\"/>\n<polygon fill=\"black\" stroke=\"black\" points=\"1144.83,-78.48 1147.78,-68.3 1139.13,-74.41 1144.83,-78.48\"/>\n</g>\n<!-- 31 -->\n<g id=\"node32\" class=\"node\">\n<title>31</title>\n<path fill=\"#e78c49\" stroke=\"black\" d=\"M1327.5,-68C1327.5,-68 1249.5,-68 1249.5,-68 1243.5,-68 1237.5,-62 1237.5,-56 1237.5,-56 1237.5,-12 1237.5,-12 1237.5,-6 1243.5,0 1249.5,0 1249.5,0 1327.5,0 1327.5,0 1333.5,0 1339.5,-6 1339.5,-12 1339.5,-12 1339.5,-56 1339.5,-56 1339.5,-62 1333.5,-68 1327.5,-68\"/>\n<text text-anchor=\"start\" x=\"1253\" y=\"-52.8\" font-family=\"Helvetica,sans-Serif\" font-size=\"14.00\">gini = 0.142</text>\n<text text-anchor=\"start\" x=\"1247.5\" y=\"-37.8\" font-family=\"Helvetica,sans-Serif\" font-size=\"14.00\">samples = 52</text>\n<text text-anchor=\"start\" x=\"1245.5\" y=\"-22.8\" font-family=\"Helvetica,sans-Serif\" font-size=\"14.00\">value = [48, 4]</text>\n<text text-anchor=\"start\" x=\"1261\" y=\"-7.8\" font-family=\"Helvetica,sans-Serif\" font-size=\"14.00\">class = 0</text>\n</g>\n<!-- 30&#45;&gt;31 -->\n<g id=\"edge31\" class=\"edge\">\n<title>30&#45;&gt;31</title>\n<path fill=\"none\" stroke=\"black\" d=\"M1288.5,-103.73C1288.5,-95.52 1288.5,-86.86 1288.5,-78.56\"/>\n<polygon fill=\"black\" stroke=\"black\" points=\"1292,-78.3 1288.5,-68.3 1285,-78.3 1292,-78.3\"/>\n</g>\n<!-- 32 -->\n<g id=\"node33\" class=\"node\">\n<title>32</title>\n<path fill=\"#f3c7a7\" stroke=\"black\" d=\"M1443.5,-68C1443.5,-68 1369.5,-68 1369.5,-68 1363.5,-68 1357.5,-62 1357.5,-56 1357.5,-56 1357.5,-12 1357.5,-12 1357.5,-6 1363.5,0 1369.5,0 1369.5,0 1443.5,0 1443.5,0 1449.5,0 1455.5,-6 1455.5,-12 1455.5,-12 1455.5,-56 1455.5,-56 1455.5,-62 1449.5,-68 1443.5,-68\"/>\n<text text-anchor=\"start\" x=\"1371\" y=\"-52.8\" font-family=\"Helvetica,sans-Serif\" font-size=\"14.00\">gini = 0.459</text>\n<text text-anchor=\"start\" x=\"1365.5\" y=\"-37.8\" font-family=\"Helvetica,sans-Serif\" font-size=\"14.00\">samples = 14</text>\n<text text-anchor=\"start\" x=\"1367\" y=\"-22.8\" font-family=\"Helvetica,sans-Serif\" font-size=\"14.00\">value = [9, 5]</text>\n<text text-anchor=\"start\" x=\"1379\" y=\"-7.8\" font-family=\"Helvetica,sans-Serif\" font-size=\"14.00\">class = 0</text>\n</g>\n<!-- 30&#45;&gt;32 -->\n<g id=\"edge32\" class=\"edge\">\n<title>30&#45;&gt;32</title>\n<path fill=\"none\" stroke=\"black\" d=\"M1332.44,-103.73C1342.46,-94.42 1353.11,-84.54 1363.11,-75.26\"/>\n<polygon fill=\"black\" stroke=\"black\" points=\"1365.67,-77.67 1370.62,-68.3 1360.9,-72.54 1365.67,-77.67\"/>\n</g>\n</g>\n</svg>\n",
            "text/plain": [
              "<graphviz.sources.Source at 0x7b63e6efc550>"
            ]
          },
          "metadata": {},
          "execution_count": 150
        }
      ]
    },
    {
      "cell_type": "code",
      "source": [],
      "metadata": {
        "id": "N7jvOTO9EdKo"
      },
      "execution_count": null,
      "outputs": []
    }
  ]
}